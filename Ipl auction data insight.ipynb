{
 "cells": [
  {
   "cell_type": "code",
   "execution_count": 1,
   "id": "2905d388",
   "metadata": {},
   "outputs": [],
   "source": [
    "import matplotlib.pyplot as plt\n",
    "import numpy as np\n",
    "import pandas as pd\n",
    "import seaborn as sns\n",
    "%matplotlib inline"
   ]
  },
  {
   "cell_type": "code",
   "execution_count": 2,
   "id": "eba05a64",
   "metadata": {},
   "outputs": [],
   "source": [
    "df=pd.read_csv(r'E:\\Datasets\\IPL_Auction\\IPL_Auction_2022_FullList.csv')"
   ]
  },
  {
   "cell_type": "code",
   "execution_count": 3,
   "id": "92eb4050",
   "metadata": {},
   "outputs": [
    {
     "data": {
      "text/html": [
       "<div>\n",
       "<style scoped>\n",
       "    .dataframe tbody tr th:only-of-type {\n",
       "        vertical-align: middle;\n",
       "    }\n",
       "\n",
       "    .dataframe tbody tr th {\n",
       "        vertical-align: top;\n",
       "    }\n",
       "\n",
       "    .dataframe thead th {\n",
       "        text-align: right;\n",
       "    }\n",
       "</style>\n",
       "<table border=\"1\" class=\"dataframe\">\n",
       "  <thead>\n",
       "    <tr style=\"text-align: right;\">\n",
       "      <th></th>\n",
       "      <th>Set No.</th>\n",
       "      <th>Set Name</th>\n",
       "      <th>Player</th>\n",
       "      <th>Country</th>\n",
       "      <th>State Association</th>\n",
       "      <th>Age</th>\n",
       "      <th>Specialism</th>\n",
       "      <th>Batting</th>\n",
       "      <th>Bowling</th>\n",
       "      <th>IPL</th>\n",
       "      <th>Previous IPLTeam(s)</th>\n",
       "      <th>2021 Team</th>\n",
       "      <th>C/U/A</th>\n",
       "      <th>Base Price</th>\n",
       "      <th>Sold Price</th>\n",
       "      <th>New Franchise</th>\n",
       "      <th>Bid</th>\n",
       "    </tr>\n",
       "  </thead>\n",
       "  <tbody>\n",
       "    <tr>\n",
       "      <th>0</th>\n",
       "      <td>1</td>\n",
       "      <td>M</td>\n",
       "      <td>Trent Boult</td>\n",
       "      <td>New Zealand</td>\n",
       "      <td>NaN</td>\n",
       "      <td>32</td>\n",
       "      <td>BOWLER</td>\n",
       "      <td>RHB</td>\n",
       "      <td>LEFT ARM Fast Medium</td>\n",
       "      <td>62.0</td>\n",
       "      <td>SRH, KKR, DD,MI</td>\n",
       "      <td>MI</td>\n",
       "      <td>Capped</td>\n",
       "      <td>200</td>\n",
       "      <td>8 CR</td>\n",
       "      <td>Rajasthan Royals</td>\n",
       "      <td>Sold</td>\n",
       "    </tr>\n",
       "    <tr>\n",
       "      <th>1</th>\n",
       "      <td>1</td>\n",
       "      <td>M</td>\n",
       "      <td>Pat Cummins</td>\n",
       "      <td>Australia</td>\n",
       "      <td>NaN</td>\n",
       "      <td>28</td>\n",
       "      <td>ALL-ROUNDER</td>\n",
       "      <td>RHB</td>\n",
       "      <td>RIGHT ARM Fast</td>\n",
       "      <td>37.0</td>\n",
       "      <td>DD, MI, KKR</td>\n",
       "      <td>KKR</td>\n",
       "      <td>Capped</td>\n",
       "      <td>200</td>\n",
       "      <td>7.25 CR</td>\n",
       "      <td>Kolkata Knight Riders</td>\n",
       "      <td>Sold</td>\n",
       "    </tr>\n",
       "    <tr>\n",
       "      <th>2</th>\n",
       "      <td>1</td>\n",
       "      <td>M</td>\n",
       "      <td>Shikhar Dhawan</td>\n",
       "      <td>India</td>\n",
       "      <td>DDCA</td>\n",
       "      <td>36</td>\n",
       "      <td>BATSMAN</td>\n",
       "      <td>LHB</td>\n",
       "      <td>-</td>\n",
       "      <td>192.0</td>\n",
       "      <td>DCH, MI, SRH, DC</td>\n",
       "      <td>DC</td>\n",
       "      <td>Capped</td>\n",
       "      <td>200</td>\n",
       "      <td>8.25 CR</td>\n",
       "      <td>Punjab Kings</td>\n",
       "      <td>Sold</td>\n",
       "    </tr>\n",
       "    <tr>\n",
       "      <th>3</th>\n",
       "      <td>1</td>\n",
       "      <td>M</td>\n",
       "      <td>Shreyas Iyer</td>\n",
       "      <td>India</td>\n",
       "      <td>MCA</td>\n",
       "      <td>27</td>\n",
       "      <td>BATSMAN</td>\n",
       "      <td>RHB</td>\n",
       "      <td>RIGHT ARM Leg Spin</td>\n",
       "      <td>87.0</td>\n",
       "      <td>DC</td>\n",
       "      <td>DC</td>\n",
       "      <td>Capped</td>\n",
       "      <td>200</td>\n",
       "      <td>12.25 CR</td>\n",
       "      <td>Kolkata Knight Riders</td>\n",
       "      <td>Sold</td>\n",
       "    </tr>\n",
       "    <tr>\n",
       "      <th>4</th>\n",
       "      <td>1</td>\n",
       "      <td>M</td>\n",
       "      <td>Kagiso Rabada</td>\n",
       "      <td>South Africa</td>\n",
       "      <td>NaN</td>\n",
       "      <td>26</td>\n",
       "      <td>BOWLER</td>\n",
       "      <td>LHB</td>\n",
       "      <td>RIGHT ARM Fast</td>\n",
       "      <td>50.0</td>\n",
       "      <td>DC</td>\n",
       "      <td>DC</td>\n",
       "      <td>Capped</td>\n",
       "      <td>200</td>\n",
       "      <td>9.25 CR</td>\n",
       "      <td>Punjab Kings</td>\n",
       "      <td>Sold</td>\n",
       "    </tr>\n",
       "    <tr>\n",
       "      <th>...</th>\n",
       "      <td>...</td>\n",
       "      <td>...</td>\n",
       "      <td>...</td>\n",
       "      <td>...</td>\n",
       "      <td>...</td>\n",
       "      <td>...</td>\n",
       "      <td>...</td>\n",
       "      <td>...</td>\n",
       "      <td>...</td>\n",
       "      <td>...</td>\n",
       "      <td>...</td>\n",
       "      <td>...</td>\n",
       "      <td>...</td>\n",
       "      <td>...</td>\n",
       "      <td>...</td>\n",
       "      <td>...</td>\n",
       "      <td>...</td>\n",
       "    </tr>\n",
       "    <tr>\n",
       "      <th>584</th>\n",
       "      <td>62</td>\n",
       "      <td>UAL15</td>\n",
       "      <td>Safyaan Sharif</td>\n",
       "      <td>Scotland</td>\n",
       "      <td>NaN</td>\n",
       "      <td>30</td>\n",
       "      <td>ALL-ROUNDER</td>\n",
       "      <td>RHB</td>\n",
       "      <td>RIGHT ARM Fast Medium</td>\n",
       "      <td>NaN</td>\n",
       "      <td>NaN</td>\n",
       "      <td>NaN</td>\n",
       "      <td>Associate</td>\n",
       "      <td>20</td>\n",
       "      <td>NaN</td>\n",
       "      <td>NaN</td>\n",
       "      <td>UnSold</td>\n",
       "    </tr>\n",
       "    <tr>\n",
       "      <th>585</th>\n",
       "      <td>62</td>\n",
       "      <td>UAL15</td>\n",
       "      <td>Henry Shipley</td>\n",
       "      <td>New Zealand</td>\n",
       "      <td>NaN</td>\n",
       "      <td>25</td>\n",
       "      <td>ALL-ROUNDER</td>\n",
       "      <td>RHB</td>\n",
       "      <td>RIGHT ARM Fast Medium</td>\n",
       "      <td>NaN</td>\n",
       "      <td>NaN</td>\n",
       "      <td>NaN</td>\n",
       "      <td>Uncapped</td>\n",
       "      <td>20</td>\n",
       "      <td>NaN</td>\n",
       "      <td>NaN</td>\n",
       "      <td>UnSold</td>\n",
       "    </tr>\n",
       "    <tr>\n",
       "      <th>586</th>\n",
       "      <td>62</td>\n",
       "      <td>UAL15</td>\n",
       "      <td>Maxwell Swaminathan</td>\n",
       "      <td>India</td>\n",
       "      <td>MCA</td>\n",
       "      <td>23</td>\n",
       "      <td>ALL-ROUNDER</td>\n",
       "      <td>RHB</td>\n",
       "      <td>RIGHT ARM Off Spin</td>\n",
       "      <td>NaN</td>\n",
       "      <td>NaN</td>\n",
       "      <td>NaN</td>\n",
       "      <td>Uncapped</td>\n",
       "      <td>20</td>\n",
       "      <td>NaN</td>\n",
       "      <td>NaN</td>\n",
       "      <td>UnSold</td>\n",
       "    </tr>\n",
       "    <tr>\n",
       "      <th>587</th>\n",
       "      <td>62</td>\n",
       "      <td>UAL15</td>\n",
       "      <td>Johan Van Dyk</td>\n",
       "      <td>South Africa</td>\n",
       "      <td>NaN</td>\n",
       "      <td>28</td>\n",
       "      <td>ALL-ROUNDER</td>\n",
       "      <td>RHB</td>\n",
       "      <td>RIGHT ARM Fast Medium</td>\n",
       "      <td>NaN</td>\n",
       "      <td>NaN</td>\n",
       "      <td>NaN</td>\n",
       "      <td>Uncapped</td>\n",
       "      <td>20</td>\n",
       "      <td>NaN</td>\n",
       "      <td>NaN</td>\n",
       "      <td>UnSold</td>\n",
       "    </tr>\n",
       "    <tr>\n",
       "      <th>588</th>\n",
       "      <td>62</td>\n",
       "      <td>UAL15</td>\n",
       "      <td>Dunith Wellalage</td>\n",
       "      <td>Sri Lanka</td>\n",
       "      <td>NaN</td>\n",
       "      <td>19</td>\n",
       "      <td>ALL-ROUNDER</td>\n",
       "      <td>LHB</td>\n",
       "      <td>LEFT ARM Slow Orthodox</td>\n",
       "      <td>NaN</td>\n",
       "      <td>NaN</td>\n",
       "      <td>NaN</td>\n",
       "      <td>Uncapped</td>\n",
       "      <td>20</td>\n",
       "      <td>NaN</td>\n",
       "      <td>NaN</td>\n",
       "      <td>UnSold</td>\n",
       "    </tr>\n",
       "  </tbody>\n",
       "</table>\n",
       "<p>589 rows × 17 columns</p>\n",
       "</div>"
      ],
      "text/plain": [
       "     Set No. Set Name               Player       Country State Association  \\\n",
       "0          1        M          Trent Boult   New Zealand               NaN   \n",
       "1          1        M          Pat Cummins     Australia               NaN   \n",
       "2          1        M       Shikhar Dhawan         India              DDCA   \n",
       "3          1        M         Shreyas Iyer         India               MCA   \n",
       "4          1        M        Kagiso Rabada  South Africa               NaN   \n",
       "..       ...      ...                  ...           ...               ...   \n",
       "584       62    UAL15       Safyaan Sharif      Scotland               NaN   \n",
       "585       62    UAL15        Henry Shipley   New Zealand               NaN   \n",
       "586       62    UAL15  Maxwell Swaminathan         India               MCA   \n",
       "587       62    UAL15        Johan Van Dyk  South Africa               NaN   \n",
       "588       62    UAL15     Dunith Wellalage     Sri Lanka               NaN   \n",
       "\n",
       "     Age   Specialism Batting                 Bowling    IPL  \\\n",
       "0     32       BOWLER     RHB    LEFT ARM Fast Medium   62.0   \n",
       "1     28  ALL-ROUNDER     RHB          RIGHT ARM Fast   37.0   \n",
       "2     36      BATSMAN     LHB                       -  192.0   \n",
       "3     27      BATSMAN     RHB      RIGHT ARM Leg Spin   87.0   \n",
       "4     26       BOWLER     LHB          RIGHT ARM Fast   50.0   \n",
       "..   ...          ...     ...                     ...    ...   \n",
       "584   30  ALL-ROUNDER     RHB   RIGHT ARM Fast Medium    NaN   \n",
       "585   25  ALL-ROUNDER     RHB   RIGHT ARM Fast Medium    NaN   \n",
       "586   23  ALL-ROUNDER     RHB      RIGHT ARM Off Spin    NaN   \n",
       "587   28  ALL-ROUNDER     RHB   RIGHT ARM Fast Medium    NaN   \n",
       "588   19  ALL-ROUNDER     LHB  LEFT ARM Slow Orthodox    NaN   \n",
       "\n",
       "    Previous IPLTeam(s) 2021 Team      C/U/A  Base Price Sold Price  \\\n",
       "0       SRH, KKR, DD,MI        MI     Capped         200       8 CR   \n",
       "1           DD, MI, KKR       KKR     Capped         200    7.25 CR   \n",
       "2      DCH, MI, SRH, DC        DC     Capped         200    8.25 CR   \n",
       "3                    DC        DC     Capped         200   12.25 CR   \n",
       "4                    DC        DC     Capped         200    9.25 CR   \n",
       "..                  ...       ...        ...         ...        ...   \n",
       "584                 NaN       NaN  Associate          20        NaN   \n",
       "585                 NaN       NaN   Uncapped          20        NaN   \n",
       "586                 NaN       NaN   Uncapped          20        NaN   \n",
       "587                 NaN       NaN   Uncapped          20        NaN   \n",
       "588                 NaN       NaN   Uncapped          20        NaN   \n",
       "\n",
       "             New Franchise     Bid  \n",
       "0         Rajasthan Royals    Sold  \n",
       "1    Kolkata Knight Riders    Sold  \n",
       "2             Punjab Kings    Sold  \n",
       "3    Kolkata Knight Riders    Sold  \n",
       "4             Punjab Kings    Sold  \n",
       "..                     ...     ...  \n",
       "584                    NaN  UnSold  \n",
       "585                    NaN  UnSold  \n",
       "586                    NaN  UnSold  \n",
       "587                    NaN  UnSold  \n",
       "588                    NaN  UnSold  \n",
       "\n",
       "[589 rows x 17 columns]"
      ]
     },
     "execution_count": 3,
     "metadata": {},
     "output_type": "execute_result"
    }
   ],
   "source": [
    "df"
   ]
  },
  {
   "cell_type": "markdown",
   "id": "ac98a634",
   "metadata": {},
   "source": [
    "### Total 589 players participated in the IPL auction"
   ]
  },
  {
   "cell_type": "code",
   "execution_count": 4,
   "id": "2bab77b9",
   "metadata": {},
   "outputs": [
    {
     "name": "stdout",
     "output_type": "stream",
     "text": [
      "<class 'pandas.core.frame.DataFrame'>\n",
      "RangeIndex: 589 entries, 0 to 588\n",
      "Data columns (total 17 columns):\n",
      " #   Column               Non-Null Count  Dtype  \n",
      "---  ------               --------------  -----  \n",
      " 0   Set No.              589 non-null    int64  \n",
      " 1   Set Name             589 non-null    object \n",
      " 2   Player               589 non-null    object \n",
      " 3   Country              589 non-null    object \n",
      " 4   State Association    369 non-null    object \n",
      " 5   Age                  589 non-null    int64  \n",
      " 6   Specialism           589 non-null    object \n",
      " 7   Batting              589 non-null    object \n",
      " 8   Bowling              589 non-null    object \n",
      " 9   IPL                  270 non-null    float64\n",
      " 10  Previous IPLTeam(s)  265 non-null    object \n",
      " 11  2021 Team            165 non-null    object \n",
      " 12  C/U/A                589 non-null    object \n",
      " 13  Base Price           589 non-null    int64  \n",
      " 14  Sold Price           204 non-null    object \n",
      " 15  New Franchise        204 non-null    object \n",
      " 16  Bid                  589 non-null    object \n",
      "dtypes: float64(1), int64(3), object(13)\n",
      "memory usage: 78.4+ KB\n"
     ]
    }
   ],
   "source": [
    "df.info()"
   ]
  },
  {
   "cell_type": "code",
   "execution_count": 5,
   "id": "f5afead7",
   "metadata": {},
   "outputs": [
    {
     "data": {
      "text/html": [
       "<div>\n",
       "<style scoped>\n",
       "    .dataframe tbody tr th:only-of-type {\n",
       "        vertical-align: middle;\n",
       "    }\n",
       "\n",
       "    .dataframe tbody tr th {\n",
       "        vertical-align: top;\n",
       "    }\n",
       "\n",
       "    .dataframe thead th {\n",
       "        text-align: right;\n",
       "    }\n",
       "</style>\n",
       "<table border=\"1\" class=\"dataframe\">\n",
       "  <thead>\n",
       "    <tr style=\"text-align: right;\">\n",
       "      <th></th>\n",
       "      <th>Set No.</th>\n",
       "      <th>Set Name</th>\n",
       "      <th>Player</th>\n",
       "      <th>Country</th>\n",
       "      <th>State Association</th>\n",
       "      <th>Age</th>\n",
       "      <th>Specialism</th>\n",
       "      <th>Batting</th>\n",
       "      <th>Bowling</th>\n",
       "      <th>IPL</th>\n",
       "      <th>Previous IPLTeam(s)</th>\n",
       "      <th>2021 Team</th>\n",
       "      <th>C/U/A</th>\n",
       "      <th>Base Price</th>\n",
       "      <th>Sold Price</th>\n",
       "      <th>New Franchise</th>\n",
       "      <th>Bid</th>\n",
       "    </tr>\n",
       "  </thead>\n",
       "  <tbody>\n",
       "    <tr>\n",
       "      <th>count</th>\n",
       "      <td>589.000000</td>\n",
       "      <td>589</td>\n",
       "      <td>589</td>\n",
       "      <td>589</td>\n",
       "      <td>369</td>\n",
       "      <td>589.000000</td>\n",
       "      <td>589</td>\n",
       "      <td>589</td>\n",
       "      <td>589</td>\n",
       "      <td>270.000000</td>\n",
       "      <td>265</td>\n",
       "      <td>165</td>\n",
       "      <td>589</td>\n",
       "      <td>589.000000</td>\n",
       "      <td>204</td>\n",
       "      <td>204</td>\n",
       "      <td>589</td>\n",
       "    </tr>\n",
       "    <tr>\n",
       "      <th>unique</th>\n",
       "      <td>NaN</td>\n",
       "      <td>62</td>\n",
       "      <td>586</td>\n",
       "      <td>15</td>\n",
       "      <td>34</td>\n",
       "      <td>NaN</td>\n",
       "      <td>4</td>\n",
       "      <td>2</td>\n",
       "      <td>11</td>\n",
       "      <td>NaN</td>\n",
       "      <td>137</td>\n",
       "      <td>8</td>\n",
       "      <td>3</td>\n",
       "      <td>NaN</td>\n",
       "      <td>66</td>\n",
       "      <td>12</td>\n",
       "      <td>2</td>\n",
       "    </tr>\n",
       "    <tr>\n",
       "      <th>top</th>\n",
       "      <td>NaN</td>\n",
       "      <td>WK2</td>\n",
       "      <td>Amit Mishra</td>\n",
       "      <td>India</td>\n",
       "      <td>TNCA</td>\n",
       "      <td>NaN</td>\n",
       "      <td>ALL-ROUNDER</td>\n",
       "      <td>RHB</td>\n",
       "      <td>RIGHT ARM Fast Medium</td>\n",
       "      <td>NaN</td>\n",
       "      <td>RCB</td>\n",
       "      <td>RR</td>\n",
       "      <td>Uncapped</td>\n",
       "      <td>NaN</td>\n",
       "      <td>20 L</td>\n",
       "      <td>Punjab Kings</td>\n",
       "      <td>UnSold</td>\n",
       "    </tr>\n",
       "    <tr>\n",
       "      <th>freq</th>\n",
       "      <td>NaN</td>\n",
       "      <td>12</td>\n",
       "      <td>2</td>\n",
       "      <td>369</td>\n",
       "      <td>30</td>\n",
       "      <td>NaN</td>\n",
       "      <td>227</td>\n",
       "      <td>415</td>\n",
       "      <td>126</td>\n",
       "      <td>NaN</td>\n",
       "      <td>20</td>\n",
       "      <td>22</td>\n",
       "      <td>354</td>\n",
       "      <td>NaN</td>\n",
       "      <td>53</td>\n",
       "      <td>23</td>\n",
       "      <td>385</td>\n",
       "    </tr>\n",
       "    <tr>\n",
       "      <th>mean</th>\n",
       "      <td>32.096774</td>\n",
       "      <td>NaN</td>\n",
       "      <td>NaN</td>\n",
       "      <td>NaN</td>\n",
       "      <td>NaN</td>\n",
       "      <td>26.955857</td>\n",
       "      <td>NaN</td>\n",
       "      <td>NaN</td>\n",
       "      <td>NaN</td>\n",
       "      <td>29.425926</td>\n",
       "      <td>NaN</td>\n",
       "      <td>NaN</td>\n",
       "      <td>NaN</td>\n",
       "      <td>51.926995</td>\n",
       "      <td>NaN</td>\n",
       "      <td>NaN</td>\n",
       "      <td>NaN</td>\n",
       "    </tr>\n",
       "    <tr>\n",
       "      <th>std</th>\n",
       "      <td>17.890516</td>\n",
       "      <td>NaN</td>\n",
       "      <td>NaN</td>\n",
       "      <td>NaN</td>\n",
       "      <td>NaN</td>\n",
       "      <td>4.690208</td>\n",
       "      <td>NaN</td>\n",
       "      <td>NaN</td>\n",
       "      <td>NaN</td>\n",
       "      <td>42.904494</td>\n",
       "      <td>NaN</td>\n",
       "      <td>NaN</td>\n",
       "      <td>NaN</td>\n",
       "      <td>53.467166</td>\n",
       "      <td>NaN</td>\n",
       "      <td>NaN</td>\n",
       "      <td>NaN</td>\n",
       "    </tr>\n",
       "    <tr>\n",
       "      <th>min</th>\n",
       "      <td>1.000000</td>\n",
       "      <td>NaN</td>\n",
       "      <td>NaN</td>\n",
       "      <td>NaN</td>\n",
       "      <td>NaN</td>\n",
       "      <td>17.000000</td>\n",
       "      <td>NaN</td>\n",
       "      <td>NaN</td>\n",
       "      <td>NaN</td>\n",
       "      <td>0.000000</td>\n",
       "      <td>NaN</td>\n",
       "      <td>NaN</td>\n",
       "      <td>NaN</td>\n",
       "      <td>20.000000</td>\n",
       "      <td>NaN</td>\n",
       "      <td>NaN</td>\n",
       "      <td>NaN</td>\n",
       "    </tr>\n",
       "    <tr>\n",
       "      <th>25%</th>\n",
       "      <td>17.000000</td>\n",
       "      <td>NaN</td>\n",
       "      <td>NaN</td>\n",
       "      <td>NaN</td>\n",
       "      <td>NaN</td>\n",
       "      <td>23.000000</td>\n",
       "      <td>NaN</td>\n",
       "      <td>NaN</td>\n",
       "      <td>NaN</td>\n",
       "      <td>1.000000</td>\n",
       "      <td>NaN</td>\n",
       "      <td>NaN</td>\n",
       "      <td>NaN</td>\n",
       "      <td>20.000000</td>\n",
       "      <td>NaN</td>\n",
       "      <td>NaN</td>\n",
       "      <td>NaN</td>\n",
       "    </tr>\n",
       "    <tr>\n",
       "      <th>50%</th>\n",
       "      <td>32.000000</td>\n",
       "      <td>NaN</td>\n",
       "      <td>NaN</td>\n",
       "      <td>NaN</td>\n",
       "      <td>NaN</td>\n",
       "      <td>27.000000</td>\n",
       "      <td>NaN</td>\n",
       "      <td>NaN</td>\n",
       "      <td>NaN</td>\n",
       "      <td>10.500000</td>\n",
       "      <td>NaN</td>\n",
       "      <td>NaN</td>\n",
       "      <td>NaN</td>\n",
       "      <td>20.000000</td>\n",
       "      <td>NaN</td>\n",
       "      <td>NaN</td>\n",
       "      <td>NaN</td>\n",
       "    </tr>\n",
       "    <tr>\n",
       "      <th>75%</th>\n",
       "      <td>48.000000</td>\n",
       "      <td>NaN</td>\n",
       "      <td>NaN</td>\n",
       "      <td>NaN</td>\n",
       "      <td>NaN</td>\n",
       "      <td>30.000000</td>\n",
       "      <td>NaN</td>\n",
       "      <td>NaN</td>\n",
       "      <td>NaN</td>\n",
       "      <td>38.750000</td>\n",
       "      <td>NaN</td>\n",
       "      <td>NaN</td>\n",
       "      <td>NaN</td>\n",
       "      <td>50.000000</td>\n",
       "      <td>NaN</td>\n",
       "      <td>NaN</td>\n",
       "      <td>NaN</td>\n",
       "    </tr>\n",
       "    <tr>\n",
       "      <th>max</th>\n",
       "      <td>62.000000</td>\n",
       "      <td>NaN</td>\n",
       "      <td>NaN</td>\n",
       "      <td>NaN</td>\n",
       "      <td>NaN</td>\n",
       "      <td>43.000000</td>\n",
       "      <td>NaN</td>\n",
       "      <td>NaN</td>\n",
       "      <td>NaN</td>\n",
       "      <td>213.000000</td>\n",
       "      <td>NaN</td>\n",
       "      <td>NaN</td>\n",
       "      <td>NaN</td>\n",
       "      <td>200.000000</td>\n",
       "      <td>NaN</td>\n",
       "      <td>NaN</td>\n",
       "      <td>NaN</td>\n",
       "    </tr>\n",
       "  </tbody>\n",
       "</table>\n",
       "</div>"
      ],
      "text/plain": [
       "           Set No. Set Name       Player Country State Association  \\\n",
       "count   589.000000      589          589     589               369   \n",
       "unique         NaN       62          586      15                34   \n",
       "top            NaN      WK2  Amit Mishra   India              TNCA   \n",
       "freq           NaN       12            2     369                30   \n",
       "mean     32.096774      NaN          NaN     NaN               NaN   \n",
       "std      17.890516      NaN          NaN     NaN               NaN   \n",
       "min       1.000000      NaN          NaN     NaN               NaN   \n",
       "25%      17.000000      NaN          NaN     NaN               NaN   \n",
       "50%      32.000000      NaN          NaN     NaN               NaN   \n",
       "75%      48.000000      NaN          NaN     NaN               NaN   \n",
       "max      62.000000      NaN          NaN     NaN               NaN   \n",
       "\n",
       "               Age   Specialism Batting                Bowling         IPL  \\\n",
       "count   589.000000          589     589                    589  270.000000   \n",
       "unique         NaN            4       2                     11         NaN   \n",
       "top            NaN  ALL-ROUNDER     RHB  RIGHT ARM Fast Medium         NaN   \n",
       "freq           NaN          227     415                    126         NaN   \n",
       "mean     26.955857          NaN     NaN                    NaN   29.425926   \n",
       "std       4.690208          NaN     NaN                    NaN   42.904494   \n",
       "min      17.000000          NaN     NaN                    NaN    0.000000   \n",
       "25%      23.000000          NaN     NaN                    NaN    1.000000   \n",
       "50%      27.000000          NaN     NaN                    NaN   10.500000   \n",
       "75%      30.000000          NaN     NaN                    NaN   38.750000   \n",
       "max      43.000000          NaN     NaN                    NaN  213.000000   \n",
       "\n",
       "       Previous IPLTeam(s) 2021 Team     C/U/A  Base Price Sold Price  \\\n",
       "count                  265       165       589  589.000000        204   \n",
       "unique                 137         8         3         NaN         66   \n",
       "top                    RCB        RR  Uncapped         NaN       20 L   \n",
       "freq                    20        22       354         NaN         53   \n",
       "mean                   NaN       NaN       NaN   51.926995        NaN   \n",
       "std                    NaN       NaN       NaN   53.467166        NaN   \n",
       "min                    NaN       NaN       NaN   20.000000        NaN   \n",
       "25%                    NaN       NaN       NaN   20.000000        NaN   \n",
       "50%                    NaN       NaN       NaN   20.000000        NaN   \n",
       "75%                    NaN       NaN       NaN   50.000000        NaN   \n",
       "max                    NaN       NaN       NaN  200.000000        NaN   \n",
       "\n",
       "       New Franchise     Bid  \n",
       "count            204     589  \n",
       "unique            12       2  \n",
       "top     Punjab Kings  UnSold  \n",
       "freq              23     385  \n",
       "mean             NaN     NaN  \n",
       "std              NaN     NaN  \n",
       "min              NaN     NaN  \n",
       "25%              NaN     NaN  \n",
       "50%              NaN     NaN  \n",
       "75%              NaN     NaN  \n",
       "max              NaN     NaN  "
      ]
     },
     "execution_count": 5,
     "metadata": {},
     "output_type": "execute_result"
    }
   ],
   "source": [
    "df.describe(include='all')"
   ]
  },
  {
   "cell_type": "markdown",
   "id": "e1b5a1c6",
   "metadata": {},
   "source": [
    "## There are 62 sets having different number of players"
   ]
  },
  {
   "cell_type": "code",
   "execution_count": 6,
   "id": "0a3be26e",
   "metadata": {},
   "outputs": [
    {
     "data": {
      "text/plain": [
       "Set No.\n",
       "1     10\n",
       "2      8\n",
       "3     10\n",
       "4      8\n",
       "5     10\n",
       "      ..\n",
       "58    10\n",
       "59    10\n",
       "60    10\n",
       "61    12\n",
       "62    12\n",
       "Length: 62, dtype: int64"
      ]
     },
     "execution_count": 6,
     "metadata": {},
     "output_type": "execute_result"
    }
   ],
   "source": [
    "df.groupby('Set No.').size()"
   ]
  },
  {
   "cell_type": "code",
   "execution_count": 7,
   "id": "4858ebd5",
   "metadata": {},
   "outputs": [],
   "source": [
    "set_no=(df.groupby('Set No.').size())"
   ]
  },
  {
   "cell_type": "markdown",
   "id": "7f3f0a5b",
   "metadata": {},
   "source": [
    "## Maximum number of player in a set is 12 and minimum is 7"
   ]
  },
  {
   "cell_type": "code",
   "execution_count": 8,
   "id": "41d6e97b",
   "metadata": {},
   "outputs": [
    {
     "data": {
      "text/plain": [
       "count    62.000000\n",
       "mean      9.500000\n",
       "std       1.127161\n",
       "min       7.000000\n",
       "25%       8.250000\n",
       "50%      10.000000\n",
       "75%      10.000000\n",
       "max      12.000000\n",
       "dtype: float64"
      ]
     },
     "execution_count": 8,
     "metadata": {},
     "output_type": "execute_result"
    }
   ],
   "source": [
    "set_no.describe()"
   ]
  },
  {
   "cell_type": "code",
   "execution_count": 9,
   "id": "4dac0bcf",
   "metadata": {},
   "outputs": [],
   "source": [
    "set_no=pd.DataFrame(set_no)"
   ]
  },
  {
   "cell_type": "code",
   "execution_count": 10,
   "id": "651f119b",
   "metadata": {},
   "outputs": [],
   "source": [
    "set_no.columns=['Count']"
   ]
  },
  {
   "cell_type": "markdown",
   "id": "9f24cf4e",
   "metadata": {},
   "source": [
    "## Maximum players are in the set no. 21,61,62"
   ]
  },
  {
   "cell_type": "code",
   "execution_count": 11,
   "id": "506b3450",
   "metadata": {},
   "outputs": [
    {
     "data": {
      "text/html": [
       "<div>\n",
       "<style scoped>\n",
       "    .dataframe tbody tr th:only-of-type {\n",
       "        vertical-align: middle;\n",
       "    }\n",
       "\n",
       "    .dataframe tbody tr th {\n",
       "        vertical-align: top;\n",
       "    }\n",
       "\n",
       "    .dataframe thead th {\n",
       "        text-align: right;\n",
       "    }\n",
       "</style>\n",
       "<table border=\"1\" class=\"dataframe\">\n",
       "  <thead>\n",
       "    <tr style=\"text-align: right;\">\n",
       "      <th></th>\n",
       "      <th>Count</th>\n",
       "    </tr>\n",
       "    <tr>\n",
       "      <th>Set No.</th>\n",
       "      <th></th>\n",
       "    </tr>\n",
       "  </thead>\n",
       "  <tbody>\n",
       "    <tr>\n",
       "      <th>21</th>\n",
       "      <td>12</td>\n",
       "    </tr>\n",
       "    <tr>\n",
       "      <th>61</th>\n",
       "      <td>12</td>\n",
       "    </tr>\n",
       "    <tr>\n",
       "      <th>62</th>\n",
       "      <td>12</td>\n",
       "    </tr>\n",
       "  </tbody>\n",
       "</table>\n",
       "</div>"
      ],
      "text/plain": [
       "         Count\n",
       "Set No.       \n",
       "21          12\n",
       "61          12\n",
       "62          12"
      ]
     },
     "execution_count": 11,
     "metadata": {},
     "output_type": "execute_result"
    }
   ],
   "source": [
    "set_no.loc[(set_no['Count']==12)]"
   ]
  },
  {
   "cell_type": "markdown",
   "id": "0b9b86fe",
   "metadata": {},
   "source": [
    "## Maximum number of players are in the sets WK2,UAL14,UAL15"
   ]
  },
  {
   "cell_type": "code",
   "execution_count": 12,
   "id": "1323e218",
   "metadata": {},
   "outputs": [
    {
     "data": {
      "text/plain": [
       "array(['WK2'], dtype=object)"
      ]
     },
     "execution_count": 12,
     "metadata": {},
     "output_type": "execute_result"
    }
   ],
   "source": [
    "df.loc[df['Set No.']==21]['Set Name'].unique()"
   ]
  },
  {
   "cell_type": "code",
   "execution_count": 13,
   "id": "05b2c593",
   "metadata": {},
   "outputs": [
    {
     "data": {
      "text/plain": [
       "array(['UAL14'], dtype=object)"
      ]
     },
     "execution_count": 13,
     "metadata": {},
     "output_type": "execute_result"
    }
   ],
   "source": [
    "df.loc[df['Set No.']==61]['Set Name'].unique()"
   ]
  },
  {
   "cell_type": "code",
   "execution_count": 14,
   "id": "cc7fe103",
   "metadata": {},
   "outputs": [
    {
     "data": {
      "text/plain": [
       "array(['UAL15'], dtype=object)"
      ]
     },
     "execution_count": 14,
     "metadata": {},
     "output_type": "execute_result"
    }
   ],
   "source": [
    "df.loc[df['Set No.']==62]['Set Name'].unique()"
   ]
  },
  {
   "cell_type": "markdown",
   "id": "32aca03f",
   "metadata": {},
   "source": [
    "## Minimum number of player are in the set no. 23 and 56"
   ]
  },
  {
   "cell_type": "code",
   "execution_count": 15,
   "id": "b7535437",
   "metadata": {},
   "outputs": [
    {
     "data": {
      "text/html": [
       "<div>\n",
       "<style scoped>\n",
       "    .dataframe tbody tr th:only-of-type {\n",
       "        vertical-align: middle;\n",
       "    }\n",
       "\n",
       "    .dataframe tbody tr th {\n",
       "        vertical-align: top;\n",
       "    }\n",
       "\n",
       "    .dataframe thead th {\n",
       "        text-align: right;\n",
       "    }\n",
       "</style>\n",
       "<table border=\"1\" class=\"dataframe\">\n",
       "  <thead>\n",
       "    <tr style=\"text-align: right;\">\n",
       "      <th></th>\n",
       "      <th>Count</th>\n",
       "    </tr>\n",
       "    <tr>\n",
       "      <th>Set No.</th>\n",
       "      <th></th>\n",
       "    </tr>\n",
       "  </thead>\n",
       "  <tbody>\n",
       "    <tr>\n",
       "      <th>23</th>\n",
       "      <td>7</td>\n",
       "    </tr>\n",
       "    <tr>\n",
       "      <th>56</th>\n",
       "      <td>7</td>\n",
       "    </tr>\n",
       "  </tbody>\n",
       "</table>\n",
       "</div>"
      ],
      "text/plain": [
       "         Count\n",
       "Set No.       \n",
       "23           7\n",
       "56           7"
      ]
     },
     "execution_count": 15,
     "metadata": {},
     "output_type": "execute_result"
    }
   ],
   "source": [
    "set_no.loc[(set_no['Count']==7)]"
   ]
  },
  {
   "cell_type": "markdown",
   "id": "7d709a49",
   "metadata": {},
   "source": [
    "## Minimum number of players are in the sets SP3,UFA9"
   ]
  },
  {
   "cell_type": "code",
   "execution_count": 16,
   "id": "9bc81ee0",
   "metadata": {},
   "outputs": [
    {
     "data": {
      "text/plain": [
       "array(['SP3'], dtype=object)"
      ]
     },
     "execution_count": 16,
     "metadata": {},
     "output_type": "execute_result"
    }
   ],
   "source": [
    "df.loc[df['Set No.']==23]['Set Name'].unique()"
   ]
  },
  {
   "cell_type": "code",
   "execution_count": 17,
   "id": "035a35a2",
   "metadata": {},
   "outputs": [
    {
     "data": {
      "text/plain": [
       "array(['UFA9'], dtype=object)"
      ]
     },
     "execution_count": 17,
     "metadata": {},
     "output_type": "execute_result"
    }
   ],
   "source": [
    "df.loc[df['Set No.']==56]['Set Name'].unique()"
   ]
  },
  {
   "cell_type": "markdown",
   "id": "69181173",
   "metadata": {},
   "source": [
    "## There are 2 players whose name is Subham Singh\n",
    "## And same for Amit Mishra and Shivam Sharma"
   ]
  },
  {
   "cell_type": "code",
   "execution_count": 18,
   "id": "625d15ee",
   "metadata": {},
   "outputs": [
    {
     "data": {
      "text/plain": [
       "Amit Mishra                2\n",
       "Shivam Sharma              2\n",
       "Shubham Singh              2\n",
       "Lukman Hussain Meriwala    1\n",
       "Abhinav Sadarangani        1\n",
       "                          ..\n",
       "Fazil Makaya               1\n",
       "Finn Allen                 1\n",
       "Mahipal Lomror             1\n",
       "Manish Pandey              1\n",
       "Midhun Sudhesan            1\n",
       "Name: Player, Length: 586, dtype: int64"
      ]
     },
     "execution_count": 18,
     "metadata": {},
     "output_type": "execute_result"
    }
   ],
   "source": [
    "df['Player'].value_counts()"
   ]
  },
  {
   "cell_type": "markdown",
   "id": "11f405ca",
   "metadata": {},
   "source": [
    "## Profile of two Amit Mishra"
   ]
  },
  {
   "cell_type": "code",
   "execution_count": 19,
   "id": "57e8c751",
   "metadata": {},
   "outputs": [
    {
     "data": {
      "text/html": [
       "<div>\n",
       "<style scoped>\n",
       "    .dataframe tbody tr th:only-of-type {\n",
       "        vertical-align: middle;\n",
       "    }\n",
       "\n",
       "    .dataframe tbody tr th {\n",
       "        vertical-align: top;\n",
       "    }\n",
       "\n",
       "    .dataframe thead th {\n",
       "        text-align: right;\n",
       "    }\n",
       "</style>\n",
       "<table border=\"1\" class=\"dataframe\">\n",
       "  <thead>\n",
       "    <tr style=\"text-align: right;\">\n",
       "      <th></th>\n",
       "      <th>Set No.</th>\n",
       "      <th>Set Name</th>\n",
       "      <th>Player</th>\n",
       "      <th>Country</th>\n",
       "      <th>State Association</th>\n",
       "      <th>Age</th>\n",
       "      <th>Specialism</th>\n",
       "      <th>Batting</th>\n",
       "      <th>Bowling</th>\n",
       "      <th>IPL</th>\n",
       "      <th>Previous IPLTeam(s)</th>\n",
       "      <th>2021 Team</th>\n",
       "      <th>C/U/A</th>\n",
       "      <th>Base Price</th>\n",
       "      <th>Sold Price</th>\n",
       "      <th>New Franchise</th>\n",
       "      <th>Bid</th>\n",
       "    </tr>\n",
       "  </thead>\n",
       "  <tbody>\n",
       "    <tr>\n",
       "      <th>190</th>\n",
       "      <td>6</td>\n",
       "      <td>SP1</td>\n",
       "      <td>Amit Mishra</td>\n",
       "      <td>India</td>\n",
       "      <td>HCA</td>\n",
       "      <td>39</td>\n",
       "      <td>BOWLER</td>\n",
       "      <td>RHB</td>\n",
       "      <td>RIGHT ARM Leg Spin</td>\n",
       "      <td>154.0</td>\n",
       "      <td>DCH, SRH, DC</td>\n",
       "      <td>DC</td>\n",
       "      <td>Capped</td>\n",
       "      <td>150</td>\n",
       "      <td>NaN</td>\n",
       "      <td>NaN</td>\n",
       "      <td>UnSold</td>\n",
       "    </tr>\n",
       "    <tr>\n",
       "      <th>464</th>\n",
       "      <td>49</td>\n",
       "      <td>UFA6</td>\n",
       "      <td>Amit Mishra</td>\n",
       "      <td>India</td>\n",
       "      <td>UPCA</td>\n",
       "      <td>30</td>\n",
       "      <td>BOWLER</td>\n",
       "      <td>RHB</td>\n",
       "      <td>RIGHT ARM Fast Medium</td>\n",
       "      <td>0.0</td>\n",
       "      <td>RR, GL</td>\n",
       "      <td>NaN</td>\n",
       "      <td>Uncapped</td>\n",
       "      <td>20</td>\n",
       "      <td>NaN</td>\n",
       "      <td>NaN</td>\n",
       "      <td>UnSold</td>\n",
       "    </tr>\n",
       "  </tbody>\n",
       "</table>\n",
       "</div>"
      ],
      "text/plain": [
       "     Set No. Set Name       Player Country State Association  Age Specialism  \\\n",
       "190        6      SP1  Amit Mishra   India               HCA   39     BOWLER   \n",
       "464       49     UFA6  Amit Mishra   India              UPCA   30     BOWLER   \n",
       "\n",
       "    Batting                Bowling    IPL Previous IPLTeam(s) 2021 Team  \\\n",
       "190     RHB     RIGHT ARM Leg Spin  154.0        DCH, SRH, DC        DC   \n",
       "464     RHB  RIGHT ARM Fast Medium    0.0              RR, GL       NaN   \n",
       "\n",
       "        C/U/A  Base Price Sold Price New Franchise     Bid  \n",
       "190    Capped         150        NaN           NaN  UnSold  \n",
       "464  Uncapped          20        NaN           NaN  UnSold  "
      ]
     },
     "execution_count": 19,
     "metadata": {},
     "output_type": "execute_result"
    }
   ],
   "source": [
    "df.loc[df['Player']=='Amit Mishra']"
   ]
  },
  {
   "cell_type": "markdown",
   "id": "232ff081",
   "metadata": {},
   "source": [
    "## Profile of two Shivam Sharma"
   ]
  },
  {
   "cell_type": "code",
   "execution_count": 20,
   "id": "37735f5f",
   "metadata": {},
   "outputs": [
    {
     "data": {
      "text/html": [
       "<div>\n",
       "<style scoped>\n",
       "    .dataframe tbody tr th:only-of-type {\n",
       "        vertical-align: middle;\n",
       "    }\n",
       "\n",
       "    .dataframe tbody tr th {\n",
       "        vertical-align: top;\n",
       "    }\n",
       "\n",
       "    .dataframe thead th {\n",
       "        text-align: right;\n",
       "    }\n",
       "</style>\n",
       "<table border=\"1\" class=\"dataframe\">\n",
       "  <thead>\n",
       "    <tr style=\"text-align: right;\">\n",
       "      <th></th>\n",
       "      <th>Set No.</th>\n",
       "      <th>Set Name</th>\n",
       "      <th>Player</th>\n",
       "      <th>Country</th>\n",
       "      <th>State Association</th>\n",
       "      <th>Age</th>\n",
       "      <th>Specialism</th>\n",
       "      <th>Batting</th>\n",
       "      <th>Bowling</th>\n",
       "      <th>IPL</th>\n",
       "      <th>Previous IPLTeam(s)</th>\n",
       "      <th>2021 Team</th>\n",
       "      <th>C/U/A</th>\n",
       "      <th>Base Price</th>\n",
       "      <th>Sold Price</th>\n",
       "      <th>New Franchise</th>\n",
       "      <th>Bid</th>\n",
       "    </tr>\n",
       "  </thead>\n",
       "  <tbody>\n",
       "    <tr>\n",
       "      <th>483</th>\n",
       "      <td>51</td>\n",
       "      <td>UAL7</td>\n",
       "      <td>Shivam Sharma</td>\n",
       "      <td>India</td>\n",
       "      <td>DDCA</td>\n",
       "      <td>28</td>\n",
       "      <td>ALL-ROUNDER</td>\n",
       "      <td>RHB</td>\n",
       "      <td>RIGHT ARM Off Spin</td>\n",
       "      <td>5.0</td>\n",
       "      <td>KXIP</td>\n",
       "      <td>NaN</td>\n",
       "      <td>Uncapped</td>\n",
       "      <td>20</td>\n",
       "      <td>NaN</td>\n",
       "      <td>NaN</td>\n",
       "      <td>UnSold</td>\n",
       "    </tr>\n",
       "    <tr>\n",
       "      <th>535</th>\n",
       "      <td>57</td>\n",
       "      <td>UAL10</td>\n",
       "      <td>Shivam Sharma</td>\n",
       "      <td>India</td>\n",
       "      <td>UPCA</td>\n",
       "      <td>26</td>\n",
       "      <td>ALL-ROUNDER</td>\n",
       "      <td>RHB</td>\n",
       "      <td>LEFT ARM Slow Orthodox</td>\n",
       "      <td>5.0</td>\n",
       "      <td>KXIP</td>\n",
       "      <td>NaN</td>\n",
       "      <td>Uncapped</td>\n",
       "      <td>20</td>\n",
       "      <td>NaN</td>\n",
       "      <td>NaN</td>\n",
       "      <td>UnSold</td>\n",
       "    </tr>\n",
       "  </tbody>\n",
       "</table>\n",
       "</div>"
      ],
      "text/plain": [
       "     Set No. Set Name         Player Country State Association  Age  \\\n",
       "483       51     UAL7  Shivam Sharma   India              DDCA   28   \n",
       "535       57    UAL10  Shivam Sharma   India              UPCA   26   \n",
       "\n",
       "      Specialism Batting                 Bowling  IPL Previous IPLTeam(s)  \\\n",
       "483  ALL-ROUNDER     RHB      RIGHT ARM Off Spin  5.0                KXIP   \n",
       "535  ALL-ROUNDER     RHB  LEFT ARM Slow Orthodox  5.0                KXIP   \n",
       "\n",
       "    2021 Team     C/U/A  Base Price Sold Price New Franchise     Bid  \n",
       "483       NaN  Uncapped          20        NaN           NaN  UnSold  \n",
       "535       NaN  Uncapped          20        NaN           NaN  UnSold  "
      ]
     },
     "execution_count": 20,
     "metadata": {},
     "output_type": "execute_result"
    }
   ],
   "source": [
    "df.loc[df['Player']=='Shivam Sharma']"
   ]
  },
  {
   "cell_type": "markdown",
   "id": "8973a44f",
   "metadata": {},
   "source": [
    "## Profile of two Subham Singh"
   ]
  },
  {
   "cell_type": "code",
   "execution_count": 21,
   "id": "1e9ad35c",
   "metadata": {},
   "outputs": [
    {
     "data": {
      "text/html": [
       "<div>\n",
       "<style scoped>\n",
       "    .dataframe tbody tr th:only-of-type {\n",
       "        vertical-align: middle;\n",
       "    }\n",
       "\n",
       "    .dataframe tbody tr th {\n",
       "        vertical-align: top;\n",
       "    }\n",
       "\n",
       "    .dataframe thead th {\n",
       "        text-align: right;\n",
       "    }\n",
       "</style>\n",
       "<table border=\"1\" class=\"dataframe\">\n",
       "  <thead>\n",
       "    <tr style=\"text-align: right;\">\n",
       "      <th></th>\n",
       "      <th>Set No.</th>\n",
       "      <th>Set Name</th>\n",
       "      <th>Player</th>\n",
       "      <th>Country</th>\n",
       "      <th>State Association</th>\n",
       "      <th>Age</th>\n",
       "      <th>Specialism</th>\n",
       "      <th>Batting</th>\n",
       "      <th>Bowling</th>\n",
       "      <th>IPL</th>\n",
       "      <th>Previous IPLTeam(s)</th>\n",
       "      <th>2021 Team</th>\n",
       "      <th>C/U/A</th>\n",
       "      <th>Base Price</th>\n",
       "      <th>Sold Price</th>\n",
       "      <th>New Franchise</th>\n",
       "      <th>Bid</th>\n",
       "    </tr>\n",
       "  </thead>\n",
       "  <tbody>\n",
       "    <tr>\n",
       "      <th>502</th>\n",
       "      <td>53</td>\n",
       "      <td>UAL8</td>\n",
       "      <td>Shubham Singh</td>\n",
       "      <td>India</td>\n",
       "      <td>CSCSCA</td>\n",
       "      <td>25</td>\n",
       "      <td>ALL-ROUNDER</td>\n",
       "      <td>RHB</td>\n",
       "      <td>RIGHT ARM Leg Spin</td>\n",
       "      <td>NaN</td>\n",
       "      <td>NaN</td>\n",
       "      <td>NaN</td>\n",
       "      <td>Uncapped</td>\n",
       "      <td>20</td>\n",
       "      <td>NaN</td>\n",
       "      <td>NaN</td>\n",
       "      <td>UnSold</td>\n",
       "    </tr>\n",
       "    <tr>\n",
       "      <th>510</th>\n",
       "      <td>54</td>\n",
       "      <td>UFA8</td>\n",
       "      <td>Shubham Singh</td>\n",
       "      <td>India</td>\n",
       "      <td>JSCA</td>\n",
       "      <td>23</td>\n",
       "      <td>BOWLER</td>\n",
       "      <td>RHB</td>\n",
       "      <td>RIGHT ARM Fast Medium</td>\n",
       "      <td>NaN</td>\n",
       "      <td>NaN</td>\n",
       "      <td>NaN</td>\n",
       "      <td>Uncapped</td>\n",
       "      <td>20</td>\n",
       "      <td>NaN</td>\n",
       "      <td>NaN</td>\n",
       "      <td>UnSold</td>\n",
       "    </tr>\n",
       "  </tbody>\n",
       "</table>\n",
       "</div>"
      ],
      "text/plain": [
       "     Set No. Set Name         Player Country State Association  Age  \\\n",
       "502       53     UAL8  Shubham Singh   India            CSCSCA   25   \n",
       "510       54     UFA8  Shubham Singh   India              JSCA   23   \n",
       "\n",
       "      Specialism Batting                Bowling  IPL Previous IPLTeam(s)  \\\n",
       "502  ALL-ROUNDER     RHB     RIGHT ARM Leg Spin  NaN                 NaN   \n",
       "510       BOWLER     RHB  RIGHT ARM Fast Medium  NaN                 NaN   \n",
       "\n",
       "    2021 Team     C/U/A  Base Price Sold Price New Franchise     Bid  \n",
       "502       NaN  Uncapped          20        NaN           NaN  UnSold  \n",
       "510       NaN  Uncapped          20        NaN           NaN  UnSold  "
      ]
     },
     "execution_count": 21,
     "metadata": {},
     "output_type": "execute_result"
    }
   ],
   "source": [
    "df.loc[df['Player']=='Shubham Singh']"
   ]
  },
  {
   "cell_type": "code",
   "execution_count": 22,
   "id": "05d67bd6",
   "metadata": {},
   "outputs": [],
   "source": [
    "sold_players=df.loc[df['Bid']=='Sold']"
   ]
  },
  {
   "cell_type": "code",
   "execution_count": 23,
   "id": "0a809343",
   "metadata": {},
   "outputs": [
    {
     "data": {
      "text/html": [
       "<div>\n",
       "<style scoped>\n",
       "    .dataframe tbody tr th:only-of-type {\n",
       "        vertical-align: middle;\n",
       "    }\n",
       "\n",
       "    .dataframe tbody tr th {\n",
       "        vertical-align: top;\n",
       "    }\n",
       "\n",
       "    .dataframe thead th {\n",
       "        text-align: right;\n",
       "    }\n",
       "</style>\n",
       "<table border=\"1\" class=\"dataframe\">\n",
       "  <thead>\n",
       "    <tr style=\"text-align: right;\">\n",
       "      <th></th>\n",
       "      <th>Set No.</th>\n",
       "      <th>Age</th>\n",
       "      <th>IPL</th>\n",
       "      <th>Base Price</th>\n",
       "    </tr>\n",
       "  </thead>\n",
       "  <tbody>\n",
       "    <tr>\n",
       "      <th>count</th>\n",
       "      <td>204.000000</td>\n",
       "      <td>204.000000</td>\n",
       "      <td>151.000000</td>\n",
       "      <td>204.000000</td>\n",
       "    </tr>\n",
       "    <tr>\n",
       "      <th>mean</th>\n",
       "      <td>17.666667</td>\n",
       "      <td>27.058824</td>\n",
       "      <td>35.761589</td>\n",
       "      <td>75.000000</td>\n",
       "    </tr>\n",
       "    <tr>\n",
       "      <th>std</th>\n",
       "      <td>14.005160</td>\n",
       "      <td>4.498108</td>\n",
       "      <td>46.108670</td>\n",
       "      <td>67.384274</td>\n",
       "    </tr>\n",
       "    <tr>\n",
       "      <th>min</th>\n",
       "      <td>1.000000</td>\n",
       "      <td>17.000000</td>\n",
       "      <td>0.000000</td>\n",
       "      <td>20.000000</td>\n",
       "    </tr>\n",
       "    <tr>\n",
       "      <th>25%</th>\n",
       "      <td>7.000000</td>\n",
       "      <td>24.000000</td>\n",
       "      <td>3.000000</td>\n",
       "      <td>20.000000</td>\n",
       "    </tr>\n",
       "    <tr>\n",
       "      <th>50%</th>\n",
       "      <td>14.000000</td>\n",
       "      <td>27.000000</td>\n",
       "      <td>19.000000</td>\n",
       "      <td>50.000000</td>\n",
       "    </tr>\n",
       "    <tr>\n",
       "      <th>75%</th>\n",
       "      <td>25.000000</td>\n",
       "      <td>30.000000</td>\n",
       "      <td>48.000000</td>\n",
       "      <td>100.000000</td>\n",
       "    </tr>\n",
       "    <tr>\n",
       "      <th>max</th>\n",
       "      <td>60.000000</td>\n",
       "      <td>38.000000</td>\n",
       "      <td>213.000000</td>\n",
       "      <td>200.000000</td>\n",
       "    </tr>\n",
       "  </tbody>\n",
       "</table>\n",
       "</div>"
      ],
      "text/plain": [
       "          Set No.         Age         IPL  Base Price\n",
       "count  204.000000  204.000000  151.000000  204.000000\n",
       "mean    17.666667   27.058824   35.761589   75.000000\n",
       "std     14.005160    4.498108   46.108670   67.384274\n",
       "min      1.000000   17.000000    0.000000   20.000000\n",
       "25%      7.000000   24.000000    3.000000   20.000000\n",
       "50%     14.000000   27.000000   19.000000   50.000000\n",
       "75%     25.000000   30.000000   48.000000  100.000000\n",
       "max     60.000000   38.000000  213.000000  200.000000"
      ]
     },
     "execution_count": 23,
     "metadata": {},
     "output_type": "execute_result"
    }
   ],
   "source": [
    "sold_players.describe() ## we will do data analysis with sold players later"
   ]
  },
  {
   "cell_type": "markdown",
   "id": "732743f9",
   "metadata": {},
   "source": [
    "## In the auction most of the foreign players are from Australia"
   ]
  },
  {
   "cell_type": "code",
   "execution_count": 24,
   "id": "d1677c64",
   "metadata": {
    "scrolled": true
   },
   "outputs": [
    {
     "data": {
      "text/plain": [
       "India           369\n",
       "Australia        47\n",
       "West Indies      34\n",
       "South Africa     33\n",
       "New Zealand      24\n",
       "England          24\n",
       "Sri Lanka        23\n",
       "Afghanistan      17\n",
       "Ireland           5\n",
       "Bangladesh        5\n",
       "Namibia           3\n",
       "Scotland          2\n",
       "USA               1\n",
       "Zimbabwe          1\n",
       "Nepal             1\n",
       "Name: Country, dtype: int64"
      ]
     },
     "execution_count": 24,
     "metadata": {},
     "output_type": "execute_result"
    }
   ],
   "source": [
    "df['Country'].value_counts()"
   ]
  },
  {
   "cell_type": "code",
   "execution_count": 80,
   "id": "bf083172",
   "metadata": {},
   "outputs": [
    {
     "data": {
      "image/png": "[encoded data removed]",
      "text/plain": [
       "<Figure size 1080x720 with 1 Axes>"
      ]
     },
     "metadata": {},
     "output_type": "display_data"
    }
   ],
   "source": [
    "country_wise_player=df['Country'].apply(lambda x:'Indian' if(x=='India') else 'Foreign Player')\n",
    "plt.figure(figsize=(15,10))\n",
    "plt.pie(country_wise_player.value_counts(),labels=['Indian','Foreign Player'], autopct='%0.00f%%',shadow=True,startangle=90)\n",
    "plt.legend()\n",
    "plt.title('Indian player vs Foreign player partic')\n",
    "plt.show()"
   ]
  },
  {
   "cell_type": "markdown",
   "id": "3fd3dc5e",
   "metadata": {},
   "source": [
    "## All Bangladeshi players participated in the auction"
   ]
  },
  {
   "cell_type": "code",
   "execution_count": 26,
   "id": "d23759dc",
   "metadata": {},
   "outputs": [
    {
     "data": {
      "text/html": [
       "<div>\n",
       "<style scoped>\n",
       "    .dataframe tbody tr th:only-of-type {\n",
       "        vertical-align: middle;\n",
       "    }\n",
       "\n",
       "    .dataframe tbody tr th {\n",
       "        vertical-align: top;\n",
       "    }\n",
       "\n",
       "    .dataframe thead th {\n",
       "        text-align: right;\n",
       "    }\n",
       "</style>\n",
       "<table border=\"1\" class=\"dataframe\">\n",
       "  <thead>\n",
       "    <tr style=\"text-align: right;\">\n",
       "      <th></th>\n",
       "      <th>Set No.</th>\n",
       "      <th>Set Name</th>\n",
       "      <th>Player</th>\n",
       "      <th>Country</th>\n",
       "      <th>State Association</th>\n",
       "      <th>Age</th>\n",
       "      <th>Specialism</th>\n",
       "      <th>Batting</th>\n",
       "      <th>Bowling</th>\n",
       "      <th>IPL</th>\n",
       "      <th>Previous IPLTeam(s)</th>\n",
       "      <th>2021 Team</th>\n",
       "      <th>C/U/A</th>\n",
       "      <th>Base Price</th>\n",
       "      <th>Sold Price</th>\n",
       "      <th>New Franchise</th>\n",
       "      <th>Bid</th>\n",
       "    </tr>\n",
       "  </thead>\n",
       "  <tbody>\n",
       "    <tr>\n",
       "      <th>38</th>\n",
       "      <td>5</td>\n",
       "      <td>FA1</td>\n",
       "      <td>Mustafizur Rahman</td>\n",
       "      <td>Bangladesh</td>\n",
       "      <td>NaN</td>\n",
       "      <td>26</td>\n",
       "      <td>BOWLER</td>\n",
       "      <td>LHB</td>\n",
       "      <td>LEFT ARM Fast Medium</td>\n",
       "      <td>38.0</td>\n",
       "      <td>SRH, MI, RR</td>\n",
       "      <td>RR</td>\n",
       "      <td>Capped</td>\n",
       "      <td>200</td>\n",
       "      <td>2 CR</td>\n",
       "      <td>Delhi Capitals</td>\n",
       "      <td>Sold</td>\n",
       "    </tr>\n",
       "    <tr>\n",
       "      <th>188</th>\n",
       "      <td>3</td>\n",
       "      <td>AL1</td>\n",
       "      <td>Shakib Al Hasan</td>\n",
       "      <td>Bangladesh</td>\n",
       "      <td>NaN</td>\n",
       "      <td>35</td>\n",
       "      <td>ALL-ROUNDER</td>\n",
       "      <td>LHB</td>\n",
       "      <td>LEFT ARM Slow Orthodox</td>\n",
       "      <td>71.0</td>\n",
       "      <td>SRH, KKR</td>\n",
       "      <td>KKR</td>\n",
       "      <td>Capped</td>\n",
       "      <td>200</td>\n",
       "      <td>NaN</td>\n",
       "      <td>NaN</td>\n",
       "      <td>UnSold</td>\n",
       "    </tr>\n",
       "    <tr>\n",
       "      <th>239</th>\n",
       "      <td>21</td>\n",
       "      <td>WK2</td>\n",
       "      <td>Litton Das</td>\n",
       "      <td>Bangladesh</td>\n",
       "      <td>NaN</td>\n",
       "      <td>27</td>\n",
       "      <td>WICKETKEEPER</td>\n",
       "      <td>RHB</td>\n",
       "      <td>-</td>\n",
       "      <td>NaN</td>\n",
       "      <td>NaN</td>\n",
       "      <td>NaN</td>\n",
       "      <td>Capped</td>\n",
       "      <td>50</td>\n",
       "      <td>NaN</td>\n",
       "      <td>NaN</td>\n",
       "      <td>UnSold</td>\n",
       "    </tr>\n",
       "    <tr>\n",
       "      <th>309</th>\n",
       "      <td>31</td>\n",
       "      <td>FA4</td>\n",
       "      <td>Taskin Ahmed</td>\n",
       "      <td>Bangladesh</td>\n",
       "      <td>NaN</td>\n",
       "      <td>27</td>\n",
       "      <td>BOWLER</td>\n",
       "      <td>LHB</td>\n",
       "      <td>RIGHT ARM Fast</td>\n",
       "      <td>NaN</td>\n",
       "      <td>NaN</td>\n",
       "      <td>NaN</td>\n",
       "      <td>Capped</td>\n",
       "      <td>50</td>\n",
       "      <td>NaN</td>\n",
       "      <td>NaN</td>\n",
       "      <td>UnSold</td>\n",
       "    </tr>\n",
       "    <tr>\n",
       "      <th>376</th>\n",
       "      <td>39</td>\n",
       "      <td>FA5</td>\n",
       "      <td>Shoriful Islam</td>\n",
       "      <td>Bangladesh</td>\n",
       "      <td>NaN</td>\n",
       "      <td>20</td>\n",
       "      <td>BOWLER</td>\n",
       "      <td>LHB</td>\n",
       "      <td>LEFT ARM Fast Medium</td>\n",
       "      <td>NaN</td>\n",
       "      <td>NaN</td>\n",
       "      <td>NaN</td>\n",
       "      <td>Capped</td>\n",
       "      <td>50</td>\n",
       "      <td>NaN</td>\n",
       "      <td>NaN</td>\n",
       "      <td>UnSold</td>\n",
       "    </tr>\n",
       "  </tbody>\n",
       "</table>\n",
       "</div>"
      ],
      "text/plain": [
       "     Set No. Set Name             Player     Country State Association  Age  \\\n",
       "38         5      FA1  Mustafizur Rahman  Bangladesh               NaN   26   \n",
       "188        3      AL1    Shakib Al Hasan  Bangladesh               NaN   35   \n",
       "239       21      WK2         Litton Das  Bangladesh               NaN   27   \n",
       "309       31      FA4       Taskin Ahmed  Bangladesh               NaN   27   \n",
       "376       39      FA5     Shoriful Islam  Bangladesh               NaN   20   \n",
       "\n",
       "       Specialism Batting                 Bowling   IPL Previous IPLTeam(s)  \\\n",
       "38         BOWLER     LHB    LEFT ARM Fast Medium  38.0         SRH, MI, RR   \n",
       "188   ALL-ROUNDER     LHB  LEFT ARM Slow Orthodox  71.0            SRH, KKR   \n",
       "239  WICKETKEEPER     RHB                       -   NaN                 NaN   \n",
       "309        BOWLER     LHB          RIGHT ARM Fast   NaN                 NaN   \n",
       "376        BOWLER     LHB    LEFT ARM Fast Medium   NaN                 NaN   \n",
       "\n",
       "    2021 Team   C/U/A  Base Price Sold Price   New Franchise     Bid  \n",
       "38         RR  Capped         200       2 CR  Delhi Capitals    Sold  \n",
       "188       KKR  Capped         200        NaN             NaN  UnSold  \n",
       "239       NaN  Capped          50        NaN             NaN  UnSold  \n",
       "309       NaN  Capped          50        NaN             NaN  UnSold  \n",
       "376       NaN  Capped          50        NaN             NaN  UnSold  "
      ]
     },
     "execution_count": 26,
     "metadata": {},
     "output_type": "execute_result"
    }
   ],
   "source": [
    "df.loc[df['Country']=='Bangladesh']"
   ]
  },
  {
   "cell_type": "markdown",
   "id": "ba27afea",
   "metadata": {},
   "source": [
    "## All players of Ireland participated in the auction"
   ]
  },
  {
   "cell_type": "code",
   "execution_count": 27,
   "id": "676303b8",
   "metadata": {},
   "outputs": [
    {
     "data": {
      "text/html": [
       "<div>\n",
       "<style scoped>\n",
       "    .dataframe tbody tr th:only-of-type {\n",
       "        vertical-align: middle;\n",
       "    }\n",
       "\n",
       "    .dataframe tbody tr th {\n",
       "        vertical-align: top;\n",
       "    }\n",
       "\n",
       "    .dataframe thead th {\n",
       "        text-align: right;\n",
       "    }\n",
       "</style>\n",
       "<table border=\"1\" class=\"dataframe\">\n",
       "  <thead>\n",
       "    <tr style=\"text-align: right;\">\n",
       "      <th></th>\n",
       "      <th>Set No.</th>\n",
       "      <th>Set Name</th>\n",
       "      <th>Player</th>\n",
       "      <th>Country</th>\n",
       "      <th>State Association</th>\n",
       "      <th>Age</th>\n",
       "      <th>Specialism</th>\n",
       "      <th>Batting</th>\n",
       "      <th>Bowling</th>\n",
       "      <th>IPL</th>\n",
       "      <th>Previous IPLTeam(s)</th>\n",
       "      <th>2021 Team</th>\n",
       "      <th>C/U/A</th>\n",
       "      <th>Base Price</th>\n",
       "      <th>Sold Price</th>\n",
       "      <th>New Franchise</th>\n",
       "      <th>Bid</th>\n",
       "    </tr>\n",
       "  </thead>\n",
       "  <tbody>\n",
       "    <tr>\n",
       "      <th>297</th>\n",
       "      <td>29</td>\n",
       "      <td>BA4</td>\n",
       "      <td>Paul Stirling</td>\n",
       "      <td>Ireland</td>\n",
       "      <td>NaN</td>\n",
       "      <td>31</td>\n",
       "      <td>BATSMAN</td>\n",
       "      <td>RHB</td>\n",
       "      <td>RIGHT ARM Off Spin</td>\n",
       "      <td>NaN</td>\n",
       "      <td>NaN</td>\n",
       "      <td>NaN</td>\n",
       "      <td>Capped</td>\n",
       "      <td>50</td>\n",
       "      <td>NaN</td>\n",
       "      <td>NaN</td>\n",
       "      <td>UnSold</td>\n",
       "    </tr>\n",
       "    <tr>\n",
       "      <th>377</th>\n",
       "      <td>39</td>\n",
       "      <td>FA5</td>\n",
       "      <td>Josh Little</td>\n",
       "      <td>Ireland</td>\n",
       "      <td>NaN</td>\n",
       "      <td>22</td>\n",
       "      <td>BOWLER</td>\n",
       "      <td>RHB</td>\n",
       "      <td>LEFT ARM Fast Medium</td>\n",
       "      <td>NaN</td>\n",
       "      <td>NaN</td>\n",
       "      <td>NaN</td>\n",
       "      <td>Capped</td>\n",
       "      <td>50</td>\n",
       "      <td>NaN</td>\n",
       "      <td>NaN</td>\n",
       "      <td>UnSold</td>\n",
       "    </tr>\n",
       "    <tr>\n",
       "      <th>426</th>\n",
       "      <td>45</td>\n",
       "      <td>AL6</td>\n",
       "      <td>Curtis Campher</td>\n",
       "      <td>Ireland</td>\n",
       "      <td>NaN</td>\n",
       "      <td>22</td>\n",
       "      <td>ALL-ROUNDER</td>\n",
       "      <td>RHB</td>\n",
       "      <td>RIGHT ARM Fast Medium</td>\n",
       "      <td>NaN</td>\n",
       "      <td>NaN</td>\n",
       "      <td>NaN</td>\n",
       "      <td>Capped</td>\n",
       "      <td>50</td>\n",
       "      <td>NaN</td>\n",
       "      <td>NaN</td>\n",
       "      <td>UnSold</td>\n",
       "    </tr>\n",
       "    <tr>\n",
       "      <th>469</th>\n",
       "      <td>50</td>\n",
       "      <td>AL7</td>\n",
       "      <td>Mark Adnair</td>\n",
       "      <td>Ireland</td>\n",
       "      <td>NaN</td>\n",
       "      <td>26</td>\n",
       "      <td>ALL-ROUNDER</td>\n",
       "      <td>RHB</td>\n",
       "      <td>RIGHT ARM Fast</td>\n",
       "      <td>NaN</td>\n",
       "      <td>NaN</td>\n",
       "      <td>NaN</td>\n",
       "      <td>Capped</td>\n",
       "      <td>50</td>\n",
       "      <td>NaN</td>\n",
       "      <td>NaN</td>\n",
       "      <td>UnSold</td>\n",
       "    </tr>\n",
       "    <tr>\n",
       "      <th>471</th>\n",
       "      <td>50</td>\n",
       "      <td>AL7</td>\n",
       "      <td>Gareth Delany</td>\n",
       "      <td>Ireland</td>\n",
       "      <td>NaN</td>\n",
       "      <td>24</td>\n",
       "      <td>ALL-ROUNDER</td>\n",
       "      <td>RHB</td>\n",
       "      <td>RIGHT ARM Leg Spin</td>\n",
       "      <td>NaN</td>\n",
       "      <td>NaN</td>\n",
       "      <td>NaN</td>\n",
       "      <td>Capped</td>\n",
       "      <td>50</td>\n",
       "      <td>NaN</td>\n",
       "      <td>NaN</td>\n",
       "      <td>UnSold</td>\n",
       "    </tr>\n",
       "  </tbody>\n",
       "</table>\n",
       "</div>"
      ],
      "text/plain": [
       "     Set No. Set Name          Player  Country State Association  Age  \\\n",
       "297       29      BA4   Paul Stirling  Ireland               NaN   31   \n",
       "377       39      FA5     Josh Little  Ireland               NaN   22   \n",
       "426       45      AL6  Curtis Campher  Ireland               NaN   22   \n",
       "469       50      AL7     Mark Adnair  Ireland               NaN   26   \n",
       "471       50      AL7   Gareth Delany  Ireland               NaN   24   \n",
       "\n",
       "      Specialism Batting                Bowling  IPL Previous IPLTeam(s)  \\\n",
       "297      BATSMAN     RHB     RIGHT ARM Off Spin  NaN                 NaN   \n",
       "377       BOWLER     RHB   LEFT ARM Fast Medium  NaN                 NaN   \n",
       "426  ALL-ROUNDER     RHB  RIGHT ARM Fast Medium  NaN                 NaN   \n",
       "469  ALL-ROUNDER     RHB         RIGHT ARM Fast  NaN                 NaN   \n",
       "471  ALL-ROUNDER     RHB     RIGHT ARM Leg Spin  NaN                 NaN   \n",
       "\n",
       "    2021 Team   C/U/A  Base Price Sold Price New Franchise     Bid  \n",
       "297       NaN  Capped          50        NaN           NaN  UnSold  \n",
       "377       NaN  Capped          50        NaN           NaN  UnSold  \n",
       "426       NaN  Capped          50        NaN           NaN  UnSold  \n",
       "469       NaN  Capped          50        NaN           NaN  UnSold  \n",
       "471       NaN  Capped          50        NaN           NaN  UnSold  "
      ]
     },
     "execution_count": 27,
     "metadata": {},
     "output_type": "execute_result"
    }
   ],
   "source": [
    "df.loc[df['Country']=='Ireland']"
   ]
  },
  {
   "cell_type": "markdown",
   "id": "7b781b40",
   "metadata": {},
   "source": [
    "## All players from Namabia participated in the auction"
   ]
  },
  {
   "cell_type": "code",
   "execution_count": 28,
   "id": "65180758",
   "metadata": {},
   "outputs": [
    {
     "data": {
      "text/html": [
       "<div>\n",
       "<style scoped>\n",
       "    .dataframe tbody tr th:only-of-type {\n",
       "        vertical-align: middle;\n",
       "    }\n",
       "\n",
       "    .dataframe tbody tr th {\n",
       "        vertical-align: top;\n",
       "    }\n",
       "\n",
       "    .dataframe thead th {\n",
       "        text-align: right;\n",
       "    }\n",
       "</style>\n",
       "<table border=\"1\" class=\"dataframe\">\n",
       "  <thead>\n",
       "    <tr style=\"text-align: right;\">\n",
       "      <th></th>\n",
       "      <th>Set No.</th>\n",
       "      <th>Set Name</th>\n",
       "      <th>Player</th>\n",
       "      <th>Country</th>\n",
       "      <th>State Association</th>\n",
       "      <th>Age</th>\n",
       "      <th>Specialism</th>\n",
       "      <th>Batting</th>\n",
       "      <th>Bowling</th>\n",
       "      <th>IPL</th>\n",
       "      <th>Previous IPLTeam(s)</th>\n",
       "      <th>2021 Team</th>\n",
       "      <th>C/U/A</th>\n",
       "      <th>Base Price</th>\n",
       "      <th>Sold Price</th>\n",
       "      <th>New Franchise</th>\n",
       "      <th>Bid</th>\n",
       "    </tr>\n",
       "  </thead>\n",
       "  <tbody>\n",
       "    <tr>\n",
       "      <th>330</th>\n",
       "      <td>33</td>\n",
       "      <td>UAL4</td>\n",
       "      <td>David Wiese</td>\n",
       "      <td>Namibia</td>\n",
       "      <td>NaN</td>\n",
       "      <td>36</td>\n",
       "      <td>ALL-ROUNDER</td>\n",
       "      <td>RHB</td>\n",
       "      <td>RIGHT ARM Medium</td>\n",
       "      <td>15.0</td>\n",
       "      <td>RCB</td>\n",
       "      <td>NaN</td>\n",
       "      <td>Associate</td>\n",
       "      <td>50</td>\n",
       "      <td>NaN</td>\n",
       "      <td>NaN</td>\n",
       "      <td>UnSold</td>\n",
       "    </tr>\n",
       "    <tr>\n",
       "      <th>493</th>\n",
       "      <td>52</td>\n",
       "      <td>UFA7</td>\n",
       "      <td>Ruben Trumpelmann</td>\n",
       "      <td>Namibia</td>\n",
       "      <td>NaN</td>\n",
       "      <td>24</td>\n",
       "      <td>BOWLER</td>\n",
       "      <td>RHB</td>\n",
       "      <td>LEFT ARM Fast</td>\n",
       "      <td>NaN</td>\n",
       "      <td>NaN</td>\n",
       "      <td>NaN</td>\n",
       "      <td>Associate</td>\n",
       "      <td>20</td>\n",
       "      <td>NaN</td>\n",
       "      <td>NaN</td>\n",
       "      <td>UnSold</td>\n",
       "    </tr>\n",
       "    <tr>\n",
       "      <th>516</th>\n",
       "      <td>55</td>\n",
       "      <td>UAL9</td>\n",
       "      <td>Johannes Smit</td>\n",
       "      <td>Namibia</td>\n",
       "      <td>NaN</td>\n",
       "      <td>26</td>\n",
       "      <td>ALL-ROUNDER</td>\n",
       "      <td>RHB</td>\n",
       "      <td>LEFT ARM Medium</td>\n",
       "      <td>NaN</td>\n",
       "      <td>NaN</td>\n",
       "      <td>NaN</td>\n",
       "      <td>Associate</td>\n",
       "      <td>20</td>\n",
       "      <td>NaN</td>\n",
       "      <td>NaN</td>\n",
       "      <td>UnSold</td>\n",
       "    </tr>\n",
       "  </tbody>\n",
       "</table>\n",
       "</div>"
      ],
      "text/plain": [
       "     Set No. Set Name             Player  Country State Association  Age  \\\n",
       "330       33     UAL4        David Wiese  Namibia               NaN   36   \n",
       "493       52     UFA7  Ruben Trumpelmann  Namibia               NaN   24   \n",
       "516       55     UAL9      Johannes Smit  Namibia               NaN   26   \n",
       "\n",
       "      Specialism Batting           Bowling   IPL Previous IPLTeam(s)  \\\n",
       "330  ALL-ROUNDER     RHB  RIGHT ARM Medium  15.0                 RCB   \n",
       "493       BOWLER     RHB     LEFT ARM Fast   NaN                 NaN   \n",
       "516  ALL-ROUNDER     RHB   LEFT ARM Medium   NaN                 NaN   \n",
       "\n",
       "    2021 Team      C/U/A  Base Price Sold Price New Franchise     Bid  \n",
       "330       NaN  Associate          50        NaN           NaN  UnSold  \n",
       "493       NaN  Associate          20        NaN           NaN  UnSold  \n",
       "516       NaN  Associate          20        NaN           NaN  UnSold  "
      ]
     },
     "execution_count": 28,
     "metadata": {},
     "output_type": "execute_result"
    }
   ],
   "source": [
    "df.loc[df['Country']=='Namibia']"
   ]
  },
  {
   "cell_type": "markdown",
   "id": "82368875",
   "metadata": {},
   "source": [
    "## All players of Scotland participated in the auction"
   ]
  },
  {
   "cell_type": "code",
   "execution_count": 29,
   "id": "46c07901",
   "metadata": {},
   "outputs": [
    {
     "data": {
      "text/html": [
       "<div>\n",
       "<style scoped>\n",
       "    .dataframe tbody tr th:only-of-type {\n",
       "        vertical-align: middle;\n",
       "    }\n",
       "\n",
       "    .dataframe tbody tr th {\n",
       "        vertical-align: top;\n",
       "    }\n",
       "\n",
       "    .dataframe thead th {\n",
       "        text-align: right;\n",
       "    }\n",
       "</style>\n",
       "<table border=\"1\" class=\"dataframe\">\n",
       "  <thead>\n",
       "    <tr style=\"text-align: right;\">\n",
       "      <th></th>\n",
       "      <th>Set No.</th>\n",
       "      <th>Set Name</th>\n",
       "      <th>Player</th>\n",
       "      <th>Country</th>\n",
       "      <th>State Association</th>\n",
       "      <th>Age</th>\n",
       "      <th>Specialism</th>\n",
       "      <th>Batting</th>\n",
       "      <th>Bowling</th>\n",
       "      <th>IPL</th>\n",
       "      <th>Previous IPLTeam(s)</th>\n",
       "      <th>2021 Team</th>\n",
       "      <th>C/U/A</th>\n",
       "      <th>Base Price</th>\n",
       "      <th>Sold Price</th>\n",
       "      <th>New Franchise</th>\n",
       "      <th>Bid</th>\n",
       "    </tr>\n",
       "  </thead>\n",
       "  <tbody>\n",
       "    <tr>\n",
       "      <th>494</th>\n",
       "      <td>52</td>\n",
       "      <td>UFA7</td>\n",
       "      <td>Brad Wheal</td>\n",
       "      <td>Scotland</td>\n",
       "      <td>NaN</td>\n",
       "      <td>25</td>\n",
       "      <td>BOWLER</td>\n",
       "      <td>RHB</td>\n",
       "      <td>RIGHT ARM Fast Medium</td>\n",
       "      <td>NaN</td>\n",
       "      <td>NaN</td>\n",
       "      <td>NaN</td>\n",
       "      <td>Associate</td>\n",
       "      <td>50</td>\n",
       "      <td>NaN</td>\n",
       "      <td>NaN</td>\n",
       "      <td>UnSold</td>\n",
       "    </tr>\n",
       "    <tr>\n",
       "      <th>584</th>\n",
       "      <td>62</td>\n",
       "      <td>UAL15</td>\n",
       "      <td>Safyaan Sharif</td>\n",
       "      <td>Scotland</td>\n",
       "      <td>NaN</td>\n",
       "      <td>30</td>\n",
       "      <td>ALL-ROUNDER</td>\n",
       "      <td>RHB</td>\n",
       "      <td>RIGHT ARM Fast Medium</td>\n",
       "      <td>NaN</td>\n",
       "      <td>NaN</td>\n",
       "      <td>NaN</td>\n",
       "      <td>Associate</td>\n",
       "      <td>20</td>\n",
       "      <td>NaN</td>\n",
       "      <td>NaN</td>\n",
       "      <td>UnSold</td>\n",
       "    </tr>\n",
       "  </tbody>\n",
       "</table>\n",
       "</div>"
      ],
      "text/plain": [
       "     Set No. Set Name          Player   Country State Association  Age  \\\n",
       "494       52     UFA7      Brad Wheal  Scotland               NaN   25   \n",
       "584       62    UAL15  Safyaan Sharif  Scotland               NaN   30   \n",
       "\n",
       "      Specialism Batting                Bowling  IPL Previous IPLTeam(s)  \\\n",
       "494       BOWLER     RHB  RIGHT ARM Fast Medium  NaN                 NaN   \n",
       "584  ALL-ROUNDER     RHB  RIGHT ARM Fast Medium  NaN                 NaN   \n",
       "\n",
       "    2021 Team      C/U/A  Base Price Sold Price New Franchise     Bid  \n",
       "494       NaN  Associate          50        NaN           NaN  UnSold  \n",
       "584       NaN  Associate          20        NaN           NaN  UnSold  "
      ]
     },
     "execution_count": 29,
     "metadata": {},
     "output_type": "execute_result"
    }
   ],
   "source": [
    "df.loc[df['Country']=='Scotland']"
   ]
  },
  {
   "cell_type": "markdown",
   "id": "0993d4ea",
   "metadata": {},
   "source": [
    "## All players of USA participated in the auction"
   ]
  },
  {
   "cell_type": "code",
   "execution_count": 30,
   "id": "25fd3733",
   "metadata": {},
   "outputs": [
    {
     "data": {
      "text/html": [
       "<div>\n",
       "<style scoped>\n",
       "    .dataframe tbody tr th:only-of-type {\n",
       "        vertical-align: middle;\n",
       "    }\n",
       "\n",
       "    .dataframe tbody tr th {\n",
       "        vertical-align: top;\n",
       "    }\n",
       "\n",
       "    .dataframe thead th {\n",
       "        text-align: right;\n",
       "    }\n",
       "</style>\n",
       "<table border=\"1\" class=\"dataframe\">\n",
       "  <thead>\n",
       "    <tr style=\"text-align: right;\">\n",
       "      <th></th>\n",
       "      <th>Set No.</th>\n",
       "      <th>Set Name</th>\n",
       "      <th>Player</th>\n",
       "      <th>Country</th>\n",
       "      <th>State Association</th>\n",
       "      <th>Age</th>\n",
       "      <th>Specialism</th>\n",
       "      <th>Batting</th>\n",
       "      <th>Bowling</th>\n",
       "      <th>IPL</th>\n",
       "      <th>Previous IPLTeam(s)</th>\n",
       "      <th>2021 Team</th>\n",
       "      <th>C/U/A</th>\n",
       "      <th>Base Price</th>\n",
       "      <th>Sold Price</th>\n",
       "      <th>New Franchise</th>\n",
       "      <th>Bid</th>\n",
       "    </tr>\n",
       "  </thead>\n",
       "  <tbody>\n",
       "    <tr>\n",
       "      <th>411</th>\n",
       "      <td>43</td>\n",
       "      <td>UFA5</td>\n",
       "      <td>Ali Khan</td>\n",
       "      <td>USA</td>\n",
       "      <td>NaN</td>\n",
       "      <td>31</td>\n",
       "      <td>BOWLER</td>\n",
       "      <td>RHB</td>\n",
       "      <td>RIGHT ARM Fast</td>\n",
       "      <td>0.0</td>\n",
       "      <td>KKR</td>\n",
       "      <td>NaN</td>\n",
       "      <td>Associate</td>\n",
       "      <td>40</td>\n",
       "      <td>NaN</td>\n",
       "      <td>NaN</td>\n",
       "      <td>UnSold</td>\n",
       "    </tr>\n",
       "  </tbody>\n",
       "</table>\n",
       "</div>"
      ],
      "text/plain": [
       "     Set No. Set Name    Player Country State Association  Age Specialism  \\\n",
       "411       43     UFA5  Ali Khan     USA               NaN   31     BOWLER   \n",
       "\n",
       "    Batting         Bowling  IPL Previous IPLTeam(s) 2021 Team      C/U/A  \\\n",
       "411     RHB  RIGHT ARM Fast  0.0                 KKR       NaN  Associate   \n",
       "\n",
       "     Base Price Sold Price New Franchise     Bid  \n",
       "411          40        NaN           NaN  UnSold  "
      ]
     },
     "execution_count": 30,
     "metadata": {},
     "output_type": "execute_result"
    }
   ],
   "source": [
    "df.loc[df['Country']=='USA']"
   ]
  },
  {
   "cell_type": "markdown",
   "id": "344b6042",
   "metadata": {},
   "source": [
    "## All players of Nepal participated in the auction"
   ]
  },
  {
   "cell_type": "code",
   "execution_count": 31,
   "id": "f80e09dc",
   "metadata": {},
   "outputs": [
    {
     "data": {
      "text/html": [
       "<div>\n",
       "<style scoped>\n",
       "    .dataframe tbody tr th:only-of-type {\n",
       "        vertical-align: middle;\n",
       "    }\n",
       "\n",
       "    .dataframe tbody tr th {\n",
       "        vertical-align: top;\n",
       "    }\n",
       "\n",
       "    .dataframe thead th {\n",
       "        text-align: right;\n",
       "    }\n",
       "</style>\n",
       "<table border=\"1\" class=\"dataframe\">\n",
       "  <thead>\n",
       "    <tr style=\"text-align: right;\">\n",
       "      <th></th>\n",
       "      <th>Set No.</th>\n",
       "      <th>Set Name</th>\n",
       "      <th>Player</th>\n",
       "      <th>Country</th>\n",
       "      <th>State Association</th>\n",
       "      <th>Age</th>\n",
       "      <th>Specialism</th>\n",
       "      <th>Batting</th>\n",
       "      <th>Bowling</th>\n",
       "      <th>IPL</th>\n",
       "      <th>Previous IPLTeam(s)</th>\n",
       "      <th>2021 Team</th>\n",
       "      <th>C/U/A</th>\n",
       "      <th>Base Price</th>\n",
       "      <th>Sold Price</th>\n",
       "      <th>New Franchise</th>\n",
       "      <th>Bid</th>\n",
       "    </tr>\n",
       "  </thead>\n",
       "  <tbody>\n",
       "    <tr>\n",
       "      <th>204</th>\n",
       "      <td>11</td>\n",
       "      <td>USP1</td>\n",
       "      <td>Sandeep Lamichhane</td>\n",
       "      <td>Nepal</td>\n",
       "      <td>NaN</td>\n",
       "      <td>21</td>\n",
       "      <td>BOWLER</td>\n",
       "      <td>RHB</td>\n",
       "      <td>RIGHT ARM Leg Spin</td>\n",
       "      <td>9.0</td>\n",
       "      <td>DC</td>\n",
       "      <td>NaN</td>\n",
       "      <td>Associate</td>\n",
       "      <td>40</td>\n",
       "      <td>NaN</td>\n",
       "      <td>NaN</td>\n",
       "      <td>UnSold</td>\n",
       "    </tr>\n",
       "  </tbody>\n",
       "</table>\n",
       "</div>"
      ],
      "text/plain": [
       "     Set No. Set Name              Player Country State Association  Age  \\\n",
       "204       11     USP1  Sandeep Lamichhane   Nepal               NaN   21   \n",
       "\n",
       "    Specialism Batting             Bowling  IPL Previous IPLTeam(s) 2021 Team  \\\n",
       "204     BOWLER     RHB  RIGHT ARM Leg Spin  9.0                  DC       NaN   \n",
       "\n",
       "         C/U/A  Base Price Sold Price New Franchise     Bid  \n",
       "204  Associate          40        NaN           NaN  UnSold  "
      ]
     },
     "execution_count": 31,
     "metadata": {},
     "output_type": "execute_result"
    }
   ],
   "source": [
    "df.loc[df['Country']=='Nepal']"
   ]
  },
  {
   "cell_type": "markdown",
   "id": "1ea78199",
   "metadata": {},
   "source": [
    "## All players of Zimbabwe participated in the auction"
   ]
  },
  {
   "cell_type": "code",
   "execution_count": 32,
   "id": "f9ea99d6",
   "metadata": {},
   "outputs": [
    {
     "data": {
      "text/html": [
       "<div>\n",
       "<style scoped>\n",
       "    .dataframe tbody tr th:only-of-type {\n",
       "        vertical-align: middle;\n",
       "    }\n",
       "\n",
       "    .dataframe tbody tr th {\n",
       "        vertical-align: top;\n",
       "    }\n",
       "\n",
       "    .dataframe thead th {\n",
       "        text-align: right;\n",
       "    }\n",
       "</style>\n",
       "<table border=\"1\" class=\"dataframe\">\n",
       "  <thead>\n",
       "    <tr style=\"text-align: right;\">\n",
       "      <th></th>\n",
       "      <th>Set No.</th>\n",
       "      <th>Set Name</th>\n",
       "      <th>Player</th>\n",
       "      <th>Country</th>\n",
       "      <th>State Association</th>\n",
       "      <th>Age</th>\n",
       "      <th>Specialism</th>\n",
       "      <th>Batting</th>\n",
       "      <th>Bowling</th>\n",
       "      <th>IPL</th>\n",
       "      <th>Previous IPLTeam(s)</th>\n",
       "      <th>2021 Team</th>\n",
       "      <th>C/U/A</th>\n",
       "      <th>Base Price</th>\n",
       "      <th>Sold Price</th>\n",
       "      <th>New Franchise</th>\n",
       "      <th>Bid</th>\n",
       "    </tr>\n",
       "  </thead>\n",
       "  <tbody>\n",
       "    <tr>\n",
       "      <th>378</th>\n",
       "      <td>39</td>\n",
       "      <td>FA5</td>\n",
       "      <td>Blessing Muzarabani</td>\n",
       "      <td>Zimbabwe</td>\n",
       "      <td>NaN</td>\n",
       "      <td>25</td>\n",
       "      <td>BOWLER</td>\n",
       "      <td>RHB</td>\n",
       "      <td>RIGHT ARM Fast</td>\n",
       "      <td>NaN</td>\n",
       "      <td>NaN</td>\n",
       "      <td>NaN</td>\n",
       "      <td>Capped</td>\n",
       "      <td>50</td>\n",
       "      <td>NaN</td>\n",
       "      <td>NaN</td>\n",
       "      <td>UnSold</td>\n",
       "    </tr>\n",
       "  </tbody>\n",
       "</table>\n",
       "</div>"
      ],
      "text/plain": [
       "     Set No. Set Name               Player   Country State Association  Age  \\\n",
       "378       39      FA5  Blessing Muzarabani  Zimbabwe               NaN   25   \n",
       "\n",
       "    Specialism Batting         Bowling  IPL Previous IPLTeam(s) 2021 Team  \\\n",
       "378     BOWLER     RHB  RIGHT ARM Fast  NaN                 NaN       NaN   \n",
       "\n",
       "      C/U/A  Base Price Sold Price New Franchise     Bid  \n",
       "378  Capped          50        NaN           NaN  UnSold  "
      ]
     },
     "execution_count": 32,
     "metadata": {},
     "output_type": "execute_result"
    }
   ],
   "source": [
    "df.loc[df['Country']=='Zimbabwe']"
   ]
  },
  {
   "cell_type": "code",
   "execution_count": 33,
   "id": "943ef89c",
   "metadata": {},
   "outputs": [],
   "source": [
    "df['State Association'].fillna('Foreign Player',inplace=True)"
   ]
  },
  {
   "cell_type": "code",
   "execution_count": 34,
   "id": "991c327f",
   "metadata": {},
   "outputs": [
    {
     "name": "stdout",
     "output_type": "stream",
     "text": [
      "<class 'pandas.core.frame.DataFrame'>\n",
      "RangeIndex: 589 entries, 0 to 588\n",
      "Data columns (total 17 columns):\n",
      " #   Column               Non-Null Count  Dtype  \n",
      "---  ------               --------------  -----  \n",
      " 0   Set No.              589 non-null    int64  \n",
      " 1   Set Name             589 non-null    object \n",
      " 2   Player               589 non-null    object \n",
      " 3   Country              589 non-null    object \n",
      " 4   State Association    589 non-null    object \n",
      " 5   Age                  589 non-null    int64  \n",
      " 6   Specialism           589 non-null    object \n",
      " 7   Batting              589 non-null    object \n",
      " 8   Bowling              589 non-null    object \n",
      " 9   IPL                  270 non-null    float64\n",
      " 10  Previous IPLTeam(s)  265 non-null    object \n",
      " 11  2021 Team            165 non-null    object \n",
      " 12  C/U/A                589 non-null    object \n",
      " 13  Base Price           589 non-null    int64  \n",
      " 14  Sold Price           204 non-null    object \n",
      " 15  New Franchise        204 non-null    object \n",
      " 16  Bid                  589 non-null    object \n",
      "dtypes: float64(1), int64(3), object(13)\n",
      "memory usage: 78.4+ KB\n"
     ]
    }
   ],
   "source": [
    "df.info()"
   ]
  },
  {
   "cell_type": "markdown",
   "id": "9127ff15",
   "metadata": {},
   "source": [
    "#### Among the Indian Players most of the players are from Tamil Nadu Cricket Association(TNCA) and <br> <br> Less players are from ASCA,TCA,MECA,NCA"
   ]
  },
  {
   "cell_type": "code",
   "execution_count": 35,
   "id": "490c2470",
   "metadata": {},
   "outputs": [
    {
     "data": {
      "text/plain": [
       "Foreign Player    220\n",
       "TNCA               30\n",
       "DDCA               27\n",
       "KSCA               26\n",
       "UPCA               26\n",
       "MCA                21\n",
       "RCA                19\n",
       "PCA                18\n",
       "HYCA               15\n",
       "CAB                14\n",
       "HCA                14\n",
       "MACA               13\n",
       "BCA                13\n",
       "KCA                13\n",
       "VCA                12\n",
       "JSCA               11\n",
       "ACA                10\n",
       "JKCA               10\n",
       "SCA                10\n",
       "MPCA                9\n",
       "HPCA                9\n",
       "GUCA                8\n",
       "BICA                6\n",
       "CSCSCA              5\n",
       "RSPB                5\n",
       "UTCA                5\n",
       "SSCB                4\n",
       "GCA                 4\n",
       "CAP                 3\n",
       "CAU                 3\n",
       "OCA                 2\n",
       "TCA                 1\n",
       "MECA                1\n",
       "NCA                 1\n",
       "ASCA                1\n",
       "Name: State Association, dtype: int64"
      ]
     },
     "execution_count": 35,
     "metadata": {},
     "output_type": "execute_result"
    }
   ],
   "source": [
    "df['State Association'].value_counts()"
   ]
  },
  {
   "cell_type": "markdown",
   "id": "e6fc9f89",
   "metadata": {},
   "source": [
    "### In the auction, players age are between 17 to 43 and the average age is 27"
   ]
  },
  {
   "cell_type": "code",
   "execution_count": 36,
   "id": "c9c1d6ce",
   "metadata": {},
   "outputs": [
    {
     "data": {
      "text/plain": [
       "count    589.000000\n",
       "mean      26.955857\n",
       "std        4.690208\n",
       "min       17.000000\n",
       "25%       23.000000\n",
       "50%       27.000000\n",
       "75%       30.000000\n",
       "max       43.000000\n",
       "Name: Age, dtype: float64"
      ]
     },
     "execution_count": 36,
     "metadata": {},
     "output_type": "execute_result"
    }
   ],
   "source": [
    "df['Age'].describe()"
   ]
  },
  {
   "cell_type": "markdown",
   "id": "32ddb359",
   "metadata": {},
   "source": [
    "### The youngest player in the auction is Noor Ahmed from Afghanistan and he is sold to Gujarat Titans at price <br><br>30L"
   ]
  },
  {
   "cell_type": "code",
   "execution_count": 37,
   "id": "a0bf954c",
   "metadata": {},
   "outputs": [
    {
     "data": {
      "text/html": [
       "<div>\n",
       "<style scoped>\n",
       "    .dataframe tbody tr th:only-of-type {\n",
       "        vertical-align: middle;\n",
       "    }\n",
       "\n",
       "    .dataframe tbody tr th {\n",
       "        vertical-align: top;\n",
       "    }\n",
       "\n",
       "    .dataframe thead th {\n",
       "        text-align: right;\n",
       "    }\n",
       "</style>\n",
       "<table border=\"1\" class=\"dataframe\">\n",
       "  <thead>\n",
       "    <tr style=\"text-align: right;\">\n",
       "      <th></th>\n",
       "      <th>Player</th>\n",
       "      <th>Country</th>\n",
       "      <th>Specialism</th>\n",
       "      <th>Batting</th>\n",
       "      <th>Bowling</th>\n",
       "      <th>Sold Price</th>\n",
       "      <th>New Franchise</th>\n",
       "      <th>Bid</th>\n",
       "    </tr>\n",
       "  </thead>\n",
       "  <tbody>\n",
       "    <tr>\n",
       "      <th>72</th>\n",
       "      <td>Noor Ahmad</td>\n",
       "      <td>Afghanistan</td>\n",
       "      <td>BOWLER</td>\n",
       "      <td>RHB</td>\n",
       "      <td>LEFT ARM Slow Unorthodox</td>\n",
       "      <td>30 L</td>\n",
       "      <td>Gujarat Titans</td>\n",
       "      <td>Sold</td>\n",
       "    </tr>\n",
       "  </tbody>\n",
       "</table>\n",
       "</div>"
      ],
      "text/plain": [
       "        Player      Country Specialism Batting                   Bowling  \\\n",
       "72  Noor Ahmad  Afghanistan     BOWLER     RHB  LEFT ARM Slow Unorthodox   \n",
       "\n",
       "   Sold Price   New Franchise   Bid  \n",
       "72       30 L  Gujarat Titans  Sold  "
      ]
     },
     "execution_count": 37,
     "metadata": {},
     "output_type": "execute_result"
    }
   ],
   "source": [
    "df.loc[df['Age']==17][['Player','Country','Specialism','Batting','Bowling','Sold Price','New Franchise','Bid']]"
   ]
  },
  {
   "cell_type": "markdown",
   "id": "4558bff8",
   "metadata": {},
   "source": [
    "### The oldest player in the auction is Imran Tahir from South Africa and he is unsold"
   ]
  },
  {
   "cell_type": "code",
   "execution_count": 38,
   "id": "2ea9530f",
   "metadata": {},
   "outputs": [
    {
     "data": {
      "text/html": [
       "<div>\n",
       "<style scoped>\n",
       "    .dataframe tbody tr th:only-of-type {\n",
       "        vertical-align: middle;\n",
       "    }\n",
       "\n",
       "    .dataframe tbody tr th {\n",
       "        vertical-align: top;\n",
       "    }\n",
       "\n",
       "    .dataframe thead th {\n",
       "        text-align: right;\n",
       "    }\n",
       "</style>\n",
       "<table border=\"1\" class=\"dataframe\">\n",
       "  <thead>\n",
       "    <tr style=\"text-align: right;\">\n",
       "      <th></th>\n",
       "      <th>Player</th>\n",
       "      <th>Country</th>\n",
       "      <th>Specialism</th>\n",
       "      <th>Batting</th>\n",
       "      <th>Bowling</th>\n",
       "      <th>Sold Price</th>\n",
       "      <th>New Franchise</th>\n",
       "      <th>Bid</th>\n",
       "    </tr>\n",
       "  </thead>\n",
       "  <tbody>\n",
       "    <tr>\n",
       "      <th>192</th>\n",
       "      <td>Imran Tahir</td>\n",
       "      <td>South Africa</td>\n",
       "      <td>BOWLER</td>\n",
       "      <td>RHB</td>\n",
       "      <td>RIGHT ARM Leg Spin</td>\n",
       "      <td>NaN</td>\n",
       "      <td>NaN</td>\n",
       "      <td>UnSold</td>\n",
       "    </tr>\n",
       "  </tbody>\n",
       "</table>\n",
       "</div>"
      ],
      "text/plain": [
       "          Player       Country Specialism Batting             Bowling  \\\n",
       "192  Imran Tahir  South Africa     BOWLER     RHB  RIGHT ARM Leg Spin   \n",
       "\n",
       "    Sold Price New Franchise     Bid  \n",
       "192        NaN           NaN  UnSold  "
      ]
     },
     "execution_count": 38,
     "metadata": {},
     "output_type": "execute_result"
    }
   ],
   "source": [
    "df.loc[df['Age']==43][['Player','Country','Specialism','Batting','Bowling','Sold Price','New Franchise','Bid']]"
   ]
  },
  {
   "cell_type": "markdown",
   "id": "a91bf853",
   "metadata": {},
   "source": [
    "### The most old sold player is Bravo "
   ]
  },
  {
   "cell_type": "code",
   "execution_count": 39,
   "id": "f8da2a51",
   "metadata": {},
   "outputs": [
    {
     "data": {
      "text/html": [
       "<div>\n",
       "<style scoped>\n",
       "    .dataframe tbody tr th:only-of-type {\n",
       "        vertical-align: middle;\n",
       "    }\n",
       "\n",
       "    .dataframe tbody tr th {\n",
       "        vertical-align: top;\n",
       "    }\n",
       "\n",
       "    .dataframe thead th {\n",
       "        text-align: right;\n",
       "    }\n",
       "</style>\n",
       "<table border=\"1\" class=\"dataframe\">\n",
       "  <thead>\n",
       "    <tr style=\"text-align: right;\">\n",
       "      <th></th>\n",
       "      <th>Set No.</th>\n",
       "      <th>Set Name</th>\n",
       "      <th>Player</th>\n",
       "      <th>Country</th>\n",
       "      <th>State Association</th>\n",
       "      <th>Age</th>\n",
       "      <th>Specialism</th>\n",
       "      <th>Batting</th>\n",
       "      <th>Bowling</th>\n",
       "      <th>IPL</th>\n",
       "      <th>Previous IPLTeam(s)</th>\n",
       "      <th>2021 Team</th>\n",
       "      <th>C/U/A</th>\n",
       "      <th>Base Price</th>\n",
       "      <th>Sold Price</th>\n",
       "      <th>New Franchise</th>\n",
       "      <th>Bid</th>\n",
       "    </tr>\n",
       "  </thead>\n",
       "  <tbody>\n",
       "    <tr>\n",
       "      <th>16</th>\n",
       "      <td>3</td>\n",
       "      <td>AL1</td>\n",
       "      <td>Dwayne Bravo</td>\n",
       "      <td>West Indies</td>\n",
       "      <td>Foreign Player</td>\n",
       "      <td>38</td>\n",
       "      <td>ALL-ROUNDER</td>\n",
       "      <td>RHB</td>\n",
       "      <td>RIGHT ARM Fast Medium</td>\n",
       "      <td>151.0</td>\n",
       "      <td>MI, GL, CSK</td>\n",
       "      <td>CSK</td>\n",
       "      <td>Capped</td>\n",
       "      <td>200</td>\n",
       "      <td>4.4 CR</td>\n",
       "      <td>Chennai Super Kings</td>\n",
       "      <td>Sold</td>\n",
       "    </tr>\n",
       "    <tr>\n",
       "      <th>434</th>\n",
       "      <td>45</td>\n",
       "      <td>AL6</td>\n",
       "      <td>Murali Vijay</td>\n",
       "      <td>India</td>\n",
       "      <td>TNCA</td>\n",
       "      <td>38</td>\n",
       "      <td>ALL-ROUNDER</td>\n",
       "      <td>RHB</td>\n",
       "      <td>RIGHT ARM Off Spin</td>\n",
       "      <td>106.0</td>\n",
       "      <td>DD, KXIP, CSK</td>\n",
       "      <td>NaN</td>\n",
       "      <td>Capped</td>\n",
       "      <td>50</td>\n",
       "      <td>NaN</td>\n",
       "      <td>NaN</td>\n",
       "      <td>UnSold</td>\n",
       "    </tr>\n",
       "    <tr>\n",
       "      <th>473</th>\n",
       "      <td>50</td>\n",
       "      <td>AL7</td>\n",
       "      <td>Anaru Kitchen</td>\n",
       "      <td>New Zealand</td>\n",
       "      <td>Foreign Player</td>\n",
       "      <td>38</td>\n",
       "      <td>ALL-ROUNDER</td>\n",
       "      <td>RHB</td>\n",
       "      <td>LEFT ARM Slow Orthodox</td>\n",
       "      <td>NaN</td>\n",
       "      <td>NaN</td>\n",
       "      <td>NaN</td>\n",
       "      <td>Capped</td>\n",
       "      <td>50</td>\n",
       "      <td>NaN</td>\n",
       "      <td>NaN</td>\n",
       "      <td>UnSold</td>\n",
       "    </tr>\n",
       "  </tbody>\n",
       "</table>\n",
       "</div>"
      ],
      "text/plain": [
       "     Set No. Set Name         Player      Country State Association  Age  \\\n",
       "16         3      AL1   Dwayne Bravo  West Indies    Foreign Player   38   \n",
       "434       45      AL6   Murali Vijay        India              TNCA   38   \n",
       "473       50      AL7  Anaru Kitchen  New Zealand    Foreign Player   38   \n",
       "\n",
       "      Specialism Batting                 Bowling    IPL Previous IPLTeam(s)  \\\n",
       "16   ALL-ROUNDER     RHB   RIGHT ARM Fast Medium  151.0         MI, GL, CSK   \n",
       "434  ALL-ROUNDER     RHB      RIGHT ARM Off Spin  106.0       DD, KXIP, CSK   \n",
       "473  ALL-ROUNDER     RHB  LEFT ARM Slow Orthodox    NaN                 NaN   \n",
       "\n",
       "    2021 Team   C/U/A  Base Price Sold Price        New Franchise     Bid  \n",
       "16        CSK  Capped         200     4.4 CR  Chennai Super Kings    Sold  \n",
       "434       NaN  Capped          50        NaN                  NaN  UnSold  \n",
       "473       NaN  Capped          50        NaN                  NaN  UnSold  "
      ]
     },
     "execution_count": 39,
     "metadata": {},
     "output_type": "execute_result"
    }
   ],
   "source": [
    "max_sold_age=df[df['Bid']=='Sold']['Age'].max()\n",
    "df.loc[df['Age']==max_sold_age]\n"
   ]
  },
  {
   "cell_type": "markdown",
   "id": "68956ef4",
   "metadata": {},
   "source": [
    "### Most of the selected players for auction are ALL-ROUNDER"
   ]
  },
  {
   "cell_type": "code",
   "execution_count": 40,
   "id": "9a64c99f",
   "metadata": {},
   "outputs": [
    {
     "data": {
      "text/plain": [
       "ALL-ROUNDER     227\n",
       "BOWLER          202\n",
       "BATSMAN         102\n",
       "WICKETKEEPER     58\n",
       "Name: Specialism, dtype: int64"
      ]
     },
     "execution_count": 40,
     "metadata": {},
     "output_type": "execute_result"
    }
   ],
   "source": [
    "df['Specialism'].value_counts()"
   ]
  },
  {
   "cell_type": "code",
   "execution_count": 83,
   "id": "e2883d95",
   "metadata": {},
   "outputs": [
    {
     "data": {
      "image/png": "[encoded data removed]",
      "text/plain": [
       "<Figure size 1080x720 with 1 Axes>"
      ]
     },
     "metadata": {},
     "output_type": "display_data"
    }
   ],
   "source": [
    "plt.figure(figsize=(15,10))\n",
    "plt.pie(df['Specialism'].value_counts(),labels=['ALL-ROUNDER','BOWLER','BATSMAN','WICKETKEEPER'],autopct='%0.0f%%',startangle=100,shadow=True)\n",
    "plt.legend(loc='best')\n",
    "plt.title('types of players selected for auction')\n",
    "plt.show()"
   ]
  },
  {
   "cell_type": "markdown",
   "id": "f6e2fc77",
   "metadata": {},
   "source": [
    "### There is some errror in the team name of LSG and GT"
   ]
  },
  {
   "cell_type": "code",
   "execution_count": 42,
   "id": "d68f7176",
   "metadata": {},
   "outputs": [
    {
     "data": {
      "text/plain": [
       "Punjab Kings                   23\n",
       "Chennai Super Kings            21\n",
       "Kolkata Knight Riders          21\n",
       "Mumbai Indians                 21\n",
       "Rajasthan Royals               21\n",
       "Sunrisers Hyderabad            20\n",
       "Delhi Capitals                 20\n",
       "Royal Challengers Bangalore    19\n",
       "Gujarat Titans                 19\n",
       "Lucknow Super Giants           17\n",
       "Luknow Super Giants             1\n",
       "Gujarat Titan                   1\n",
       "Name: New Franchise, dtype: int64"
      ]
     },
     "execution_count": 42,
     "metadata": {},
     "output_type": "execute_result"
    }
   ],
   "source": [
    "df['New Franchise'].value_counts()"
   ]
  },
  {
   "cell_type": "code",
   "execution_count": 43,
   "id": "42d5fbf2",
   "metadata": {},
   "outputs": [
    {
     "data": {
      "text/html": [
       "<div>\n",
       "<style scoped>\n",
       "    .dataframe tbody tr th:only-of-type {\n",
       "        vertical-align: middle;\n",
       "    }\n",
       "\n",
       "    .dataframe tbody tr th {\n",
       "        vertical-align: top;\n",
       "    }\n",
       "\n",
       "    .dataframe thead th {\n",
       "        text-align: right;\n",
       "    }\n",
       "</style>\n",
       "<table border=\"1\" class=\"dataframe\">\n",
       "  <thead>\n",
       "    <tr style=\"text-align: right;\">\n",
       "      <th></th>\n",
       "      <th>Set No.</th>\n",
       "      <th>Set Name</th>\n",
       "      <th>Player</th>\n",
       "      <th>Country</th>\n",
       "      <th>State Association</th>\n",
       "      <th>Age</th>\n",
       "      <th>Specialism</th>\n",
       "      <th>Batting</th>\n",
       "      <th>Bowling</th>\n",
       "      <th>IPL</th>\n",
       "      <th>Previous IPLTeam(s)</th>\n",
       "      <th>2021 Team</th>\n",
       "      <th>C/U/A</th>\n",
       "      <th>Base Price</th>\n",
       "      <th>Sold Price</th>\n",
       "      <th>New Franchise</th>\n",
       "      <th>Bid</th>\n",
       "    </tr>\n",
       "  </thead>\n",
       "  <tbody>\n",
       "    <tr>\n",
       "      <th>148</th>\n",
       "      <td>27</td>\n",
       "      <td>UFA3</td>\n",
       "      <td>Mohsin Khan</td>\n",
       "      <td>India</td>\n",
       "      <td>UPCA</td>\n",
       "      <td>23</td>\n",
       "      <td>BOWLER</td>\n",
       "      <td>LHB</td>\n",
       "      <td>LEFT ARM Fast Medium</td>\n",
       "      <td>0.0</td>\n",
       "      <td>MI</td>\n",
       "      <td>MI</td>\n",
       "      <td>Uncapped</td>\n",
       "      <td>20</td>\n",
       "      <td>20 L</td>\n",
       "      <td>Luknow Super Giants</td>\n",
       "      <td>Sold</td>\n",
       "    </tr>\n",
       "  </tbody>\n",
       "</table>\n",
       "</div>"
      ],
      "text/plain": [
       "     Set No. Set Name       Player Country State Association  Age Specialism  \\\n",
       "148       27     UFA3  Mohsin Khan   India              UPCA   23     BOWLER   \n",
       "\n",
       "    Batting               Bowling  IPL Previous IPLTeam(s) 2021 Team  \\\n",
       "148     LHB  LEFT ARM Fast Medium  0.0                  MI        MI   \n",
       "\n",
       "        C/U/A  Base Price Sold Price        New Franchise   Bid  \n",
       "148  Uncapped          20       20 L  Luknow Super Giants  Sold  "
      ]
     },
     "execution_count": 43,
     "metadata": {},
     "output_type": "execute_result"
    }
   ],
   "source": [
    "df.loc[df['New Franchise']=='Luknow Super Giants']"
   ]
  },
  {
   "cell_type": "code",
   "execution_count": 44,
   "id": "9fb74343",
   "metadata": {},
   "outputs": [],
   "source": [
    "df.loc[148,'New Franchise']='Lucknow Super Giants'"
   ]
  },
  {
   "cell_type": "code",
   "execution_count": 45,
   "id": "96e0f0ad",
   "metadata": {},
   "outputs": [
    {
     "data": {
      "text/html": [
       "<div>\n",
       "<style scoped>\n",
       "    .dataframe tbody tr th:only-of-type {\n",
       "        vertical-align: middle;\n",
       "    }\n",
       "\n",
       "    .dataframe tbody tr th {\n",
       "        vertical-align: top;\n",
       "    }\n",
       "\n",
       "    .dataframe thead th {\n",
       "        text-align: right;\n",
       "    }\n",
       "</style>\n",
       "<table border=\"1\" class=\"dataframe\">\n",
       "  <thead>\n",
       "    <tr style=\"text-align: right;\">\n",
       "      <th></th>\n",
       "      <th>Set No.</th>\n",
       "      <th>Set Name</th>\n",
       "      <th>Player</th>\n",
       "      <th>Country</th>\n",
       "      <th>State Association</th>\n",
       "      <th>Age</th>\n",
       "      <th>Specialism</th>\n",
       "      <th>Batting</th>\n",
       "      <th>Bowling</th>\n",
       "      <th>IPL</th>\n",
       "      <th>Previous IPLTeam(s)</th>\n",
       "      <th>2021 Team</th>\n",
       "      <th>C/U/A</th>\n",
       "      <th>Base Price</th>\n",
       "      <th>Sold Price</th>\n",
       "      <th>New Franchise</th>\n",
       "      <th>Bid</th>\n",
       "    </tr>\n",
       "  </thead>\n",
       "  <tbody>\n",
       "  </tbody>\n",
       "</table>\n",
       "</div>"
      ],
      "text/plain": [
       "Empty DataFrame\n",
       "Columns: [Set No., Set Name, Player, Country, State Association, Age, Specialism, Batting, Bowling, IPL, Previous IPLTeam(s), 2021 Team, C/U/A, Base Price, Sold Price, New Franchise, Bid]\n",
       "Index: []"
      ]
     },
     "execution_count": 45,
     "metadata": {},
     "output_type": "execute_result"
    }
   ],
   "source": [
    "df.loc[df['New Franchise']=='Luknow Super Giants']"
   ]
  },
  {
   "cell_type": "code",
   "execution_count": 46,
   "id": "bfd18295",
   "metadata": {},
   "outputs": [
    {
     "data": {
      "text/html": [
       "<div>\n",
       "<style scoped>\n",
       "    .dataframe tbody tr th:only-of-type {\n",
       "        vertical-align: middle;\n",
       "    }\n",
       "\n",
       "    .dataframe tbody tr th {\n",
       "        vertical-align: top;\n",
       "    }\n",
       "\n",
       "    .dataframe thead th {\n",
       "        text-align: right;\n",
       "    }\n",
       "</style>\n",
       "<table border=\"1\" class=\"dataframe\">\n",
       "  <thead>\n",
       "    <tr style=\"text-align: right;\">\n",
       "      <th></th>\n",
       "      <th>Set No.</th>\n",
       "      <th>Set Name</th>\n",
       "      <th>Player</th>\n",
       "      <th>Country</th>\n",
       "      <th>State Association</th>\n",
       "      <th>Age</th>\n",
       "      <th>Specialism</th>\n",
       "      <th>Batting</th>\n",
       "      <th>Bowling</th>\n",
       "      <th>IPL</th>\n",
       "      <th>Previous IPLTeam(s)</th>\n",
       "      <th>2021 Team</th>\n",
       "      <th>C/U/A</th>\n",
       "      <th>Base Price</th>\n",
       "      <th>Sold Price</th>\n",
       "      <th>New Franchise</th>\n",
       "      <th>Bid</th>\n",
       "    </tr>\n",
       "  </thead>\n",
       "  <tbody>\n",
       "    <tr>\n",
       "      <th>154</th>\n",
       "      <td>30</td>\n",
       "      <td>AL4</td>\n",
       "      <td>Gurkeerat Singh</td>\n",
       "      <td>India</td>\n",
       "      <td>PCA</td>\n",
       "      <td>31</td>\n",
       "      <td>ALL-ROUNDER</td>\n",
       "      <td>RHB</td>\n",
       "      <td>RIGHT ARM Off Spin</td>\n",
       "      <td>41.0</td>\n",
       "      <td>NaN</td>\n",
       "      <td>KKR</td>\n",
       "      <td>Capped</td>\n",
       "      <td>50</td>\n",
       "      <td>50 L</td>\n",
       "      <td>Gujarat Titan</td>\n",
       "      <td>Sold</td>\n",
       "    </tr>\n",
       "  </tbody>\n",
       "</table>\n",
       "</div>"
      ],
      "text/plain": [
       "     Set No. Set Name           Player Country State Association  Age  \\\n",
       "154       30      AL4  Gurkeerat Singh   India               PCA   31   \n",
       "\n",
       "      Specialism Batting             Bowling   IPL Previous IPLTeam(s)  \\\n",
       "154  ALL-ROUNDER     RHB  RIGHT ARM Off Spin  41.0                 NaN   \n",
       "\n",
       "    2021 Team   C/U/A  Base Price Sold Price  New Franchise   Bid  \n",
       "154       KKR  Capped          50       50 L  Gujarat Titan  Sold  "
      ]
     },
     "execution_count": 46,
     "metadata": {},
     "output_type": "execute_result"
    }
   ],
   "source": [
    "df.loc[df['New Franchise']=='Gujarat Titan']"
   ]
  },
  {
   "cell_type": "code",
   "execution_count": 47,
   "id": "60fc702f",
   "metadata": {},
   "outputs": [],
   "source": [
    "df.loc[154,'New Franchise']='Gujarat Titans'"
   ]
  },
  {
   "cell_type": "code",
   "execution_count": 48,
   "id": "e9f3e676",
   "metadata": {},
   "outputs": [
    {
     "data": {
      "text/plain": [
       "Set No.                                30\n",
       "Set Name                              AL4\n",
       "Player                    Gurkeerat Singh\n",
       "Country                             India\n",
       "State Association                     PCA\n",
       "Age                                    31\n",
       "Specialism                    ALL-ROUNDER\n",
       "Batting                               RHB\n",
       "Bowling                RIGHT ARM Off Spin\n",
       "IPL                                  41.0\n",
       "Previous IPLTeam(s)                   NaN\n",
       "2021 Team                             KKR\n",
       "C/U/A                              Capped\n",
       "Base Price                             50\n",
       "Sold Price                           50 L\n",
       "New Franchise              Gujarat Titans\n",
       "Bid                                  Sold\n",
       "Name: 154, dtype: object"
      ]
     },
     "execution_count": 48,
     "metadata": {},
     "output_type": "execute_result"
    }
   ],
   "source": [
    "df.loc[154]"
   ]
  },
  {
   "cell_type": "markdown",
   "id": "2ab6ece2",
   "metadata": {},
   "source": [
    "### problem solved and this is giving also total number of players bought by team"
   ]
  },
  {
   "cell_type": "code",
   "execution_count": 49,
   "id": "a56a79fe",
   "metadata": {},
   "outputs": [
    {
     "data": {
      "text/plain": [
       "Punjab Kings                   23\n",
       "Chennai Super Kings            21\n",
       "Kolkata Knight Riders          21\n",
       "Mumbai Indians                 21\n",
       "Rajasthan Royals               21\n",
       "Sunrisers Hyderabad            20\n",
       "Gujarat Titans                 20\n",
       "Delhi Capitals                 20\n",
       "Royal Challengers Bangalore    19\n",
       "Lucknow Super Giants           18\n",
       "Name: New Franchise, dtype: int64"
      ]
     },
     "execution_count": 49,
     "metadata": {},
     "output_type": "execute_result"
    }
   ],
   "source": [
    "df['New Franchise'].value_counts()"
   ]
  },
  {
   "cell_type": "markdown",
   "id": "be52b8b9",
   "metadata": {},
   "source": [
    "### IPL, Previous IPLTeam(s) etc. features are not properly filled"
   ]
  },
  {
   "cell_type": "code",
   "execution_count": 50,
   "id": "72d3c3dc",
   "metadata": {},
   "outputs": [
    {
     "name": "stdout",
     "output_type": "stream",
     "text": [
      "<class 'pandas.core.frame.DataFrame'>\n",
      "RangeIndex: 589 entries, 0 to 588\n",
      "Data columns (total 17 columns):\n",
      " #   Column               Non-Null Count  Dtype  \n",
      "---  ------               --------------  -----  \n",
      " 0   Set No.              589 non-null    int64  \n",
      " 1   Set Name             589 non-null    object \n",
      " 2   Player               589 non-null    object \n",
      " 3   Country              589 non-null    object \n",
      " 4   State Association    589 non-null    object \n",
      " 5   Age                  589 non-null    int64  \n",
      " 6   Specialism           589 non-null    object \n",
      " 7   Batting              589 non-null    object \n",
      " 8   Bowling              589 non-null    object \n",
      " 9   IPL                  270 non-null    float64\n",
      " 10  Previous IPLTeam(s)  265 non-null    object \n",
      " 11  2021 Team            165 non-null    object \n",
      " 12  C/U/A                589 non-null    object \n",
      " 13  Base Price           589 non-null    int64  \n",
      " 14  Sold Price           204 non-null    object \n",
      " 15  New Franchise        204 non-null    object \n",
      " 16  Bid                  589 non-null    object \n",
      "dtypes: float64(1), int64(3), object(13)\n",
      "memory usage: 78.4+ KB\n"
     ]
    }
   ],
   "source": [
    "df.info()"
   ]
  },
  {
   "cell_type": "markdown",
   "id": "807413b6",
   "metadata": {},
   "source": [
    "### filling each column with appropiate data"
   ]
  },
  {
   "cell_type": "code",
   "execution_count": 51,
   "id": "064ecfcb",
   "metadata": {},
   "outputs": [],
   "source": [
    "df['IPL'].fillna(0,inplace=True)\n",
    "df['IPL']=df['IPL'].astype('int32')"
   ]
  },
  {
   "cell_type": "code",
   "execution_count": 52,
   "id": "1619b340",
   "metadata": {},
   "outputs": [],
   "source": [
    "df['Previous IPLTeam(s)'].fillna('Not Played',inplace=True)"
   ]
  },
  {
   "cell_type": "code",
   "execution_count": 53,
   "id": "b8695d79",
   "metadata": {},
   "outputs": [],
   "source": [
    "df['2021 Team'].fillna('Not Played',inplace=True)"
   ]
  },
  {
   "cell_type": "code",
   "execution_count": 54,
   "id": "07e988c9",
   "metadata": {},
   "outputs": [
    {
     "data": {
      "text/plain": [
       "20 L        53\n",
       "50 L        17\n",
       "2 CR        12\n",
       "75 L         7\n",
       "1.50 CR      6\n",
       "            ..\n",
       "4.2 CR       1\n",
       "1.20 CR      1\n",
       "2.6 CR       1\n",
       "15.25 CR     1\n",
       "5 CR         1\n",
       "Name: Sold Price, Length: 66, dtype: int64"
      ]
     },
     "execution_count": 54,
     "metadata": {},
     "output_type": "execute_result"
    }
   ],
   "source": [
    "df['Sold Price'].value_counts()"
   ]
  },
  {
   "cell_type": "code",
   "execution_count": 55,
   "id": "70f4c1f1",
   "metadata": {},
   "outputs": [],
   "source": [
    "def object_to_int(price):\n",
    "    if price[-2:]=='CR':\n",
    "        return int(float(price[:-2])*100)\n",
    "    else:\n",
    "        return int(float(price[:-2]))\n",
    "        "
   ]
  },
  {
   "cell_type": "code",
   "execution_count": 56,
   "id": "a8f56fa8",
   "metadata": {},
   "outputs": [],
   "source": [
    "df['Sold Price'].fillna('0 L', inplace=True)"
   ]
  },
  {
   "cell_type": "code",
   "execution_count": 57,
   "id": "791c312d",
   "metadata": {},
   "outputs": [],
   "source": [
    "df['Sold Price']=df['Sold Price'].apply(object_to_int)"
   ]
  },
  {
   "cell_type": "code",
   "execution_count": 58,
   "id": "8ada0a8c",
   "metadata": {},
   "outputs": [
    {
     "data": {
      "text/plain": [
       "0       385\n",
       "20       53\n",
       "50       17\n",
       "200      12\n",
       "75        7\n",
       "       ... \n",
       "1400      1\n",
       "80        1\n",
       "70        1\n",
       "440       1\n",
       "280       1\n",
       "Name: Sold Price, Length: 61, dtype: int64"
      ]
     },
     "execution_count": 58,
     "metadata": {},
     "output_type": "execute_result"
    }
   ],
   "source": [
    "df['Sold Price'].value_counts()    ## 385 are unsold"
   ]
  },
  {
   "cell_type": "code",
   "execution_count": 59,
   "id": "77895c68",
   "metadata": {},
   "outputs": [
    {
     "data": {
      "text/plain": [
       "204"
      ]
     },
     "execution_count": 59,
     "metadata": {},
     "output_type": "execute_result"
    }
   ],
   "source": [
    "df['New Franchise'].value_counts().sum()   ## 204 players are sold and the total players are 589.....so everything is fine!!"
   ]
  },
  {
   "cell_type": "code",
   "execution_count": 60,
   "id": "c8864f2b",
   "metadata": {},
   "outputs": [],
   "source": [
    "df['New Franchise'].fillna('Not Sold',inplace=True)"
   ]
  },
  {
   "cell_type": "code",
   "execution_count": 61,
   "id": "28120f34",
   "metadata": {},
   "outputs": [
    {
     "data": {
      "text/plain": [
       "Not Sold                       385\n",
       "Punjab Kings                    23\n",
       "Chennai Super Kings             21\n",
       "Kolkata Knight Riders           21\n",
       "Mumbai Indians                  21\n",
       "Rajasthan Royals                21\n",
       "Sunrisers Hyderabad             20\n",
       "Gujarat Titans                  20\n",
       "Delhi Capitals                  20\n",
       "Royal Challengers Bangalore     19\n",
       "Lucknow Super Giants            18\n",
       "Name: New Franchise, dtype: int64"
      ]
     },
     "execution_count": 61,
     "metadata": {},
     "output_type": "execute_result"
    }
   ],
   "source": [
    "df['New Franchise'].value_counts()"
   ]
  },
  {
   "cell_type": "markdown",
   "id": "70f981b0",
   "metadata": {},
   "source": [
    "### Data is cleaned"
   ]
  },
  {
   "cell_type": "code",
   "execution_count": 62,
   "id": "a4621cdf",
   "metadata": {},
   "outputs": [
    {
     "name": "stdout",
     "output_type": "stream",
     "text": [
      "<class 'pandas.core.frame.DataFrame'>\n",
      "RangeIndex: 589 entries, 0 to 588\n",
      "Data columns (total 17 columns):\n",
      " #   Column               Non-Null Count  Dtype \n",
      "---  ------               --------------  ----- \n",
      " 0   Set No.              589 non-null    int64 \n",
      " 1   Set Name             589 non-null    object\n",
      " 2   Player               589 non-null    object\n",
      " 3   Country              589 non-null    object\n",
      " 4   State Association    589 non-null    object\n",
      " 5   Age                  589 non-null    int64 \n",
      " 6   Specialism           589 non-null    object\n",
      " 7   Batting              589 non-null    object\n",
      " 8   Bowling              589 non-null    object\n",
      " 9   IPL                  589 non-null    int32 \n",
      " 10  Previous IPLTeam(s)  589 non-null    object\n",
      " 11  2021 Team            589 non-null    object\n",
      " 12  C/U/A                589 non-null    object\n",
      " 13  Base Price           589 non-null    int64 \n",
      " 14  Sold Price           589 non-null    int64 \n",
      " 15  New Franchise        589 non-null    object\n",
      " 16  Bid                  589 non-null    object\n",
      "dtypes: int32(1), int64(4), object(12)\n",
      "memory usage: 76.1+ KB\n"
     ]
    }
   ],
   "source": [
    "df.info()"
   ]
  },
  {
   "cell_type": "markdown",
   "id": "ee85ad47",
   "metadata": {},
   "source": [
    "### In auction list there are 415 players who are right handed and 174 are left handed"
   ]
  },
  {
   "cell_type": "code",
   "execution_count": 63,
   "id": "9137016f",
   "metadata": {},
   "outputs": [
    {
     "data": {
      "text/plain": [
       "RHB    415\n",
       "LHB    174\n",
       "Name: Batting, dtype: int64"
      ]
     },
     "execution_count": 63,
     "metadata": {},
     "output_type": "execute_result"
    }
   ],
   "source": [
    "df['Batting'].value_counts()"
   ]
  },
  {
   "cell_type": "markdown",
   "id": "9b1d8766",
   "metadata": {},
   "source": [
    "### All types of bowler participated in the auction are given below"
   ]
  },
  {
   "cell_type": "code",
   "execution_count": 64,
   "id": "6c49c60a",
   "metadata": {},
   "outputs": [
    {
     "data": {
      "text/plain": [
       "RIGHT ARM Fast Medium       126\n",
       "RIGHT ARM Off Spin           97\n",
       "RIGHT ARM Leg Spin           83\n",
       "-                            74\n",
       "RIGHT ARM Fast               60\n",
       "LEFT ARM Slow Orthodox       58\n",
       "LEFT ARM Fast Medium         34\n",
       "LEFT ARM Fast                24\n",
       "RIGHT ARM Medium             21\n",
       "LEFT ARM Slow Unorthodox      9\n",
       "LEFT ARM Medium               3\n",
       "Name: Bowling, dtype: int64"
      ]
     },
     "execution_count": 64,
     "metadata": {},
     "output_type": "execute_result"
    }
   ],
   "source": [
    "df['Bowling'].value_counts()"
   ]
  },
  {
   "cell_type": "code",
   "execution_count": 65,
   "id": "62904dae",
   "metadata": {},
   "outputs": [],
   "source": [
    "change=lambda x:'Not a Bowler' if (x=='-') else x\n",
    "df['Bowling']=df['Bowling'].apply(change)"
   ]
  },
  {
   "cell_type": "code",
   "execution_count": 66,
   "id": "c3668b36",
   "metadata": {},
   "outputs": [
    {
     "data": {
      "text/plain": [
       "RIGHT ARM Fast Medium       126\n",
       "RIGHT ARM Off Spin           97\n",
       "RIGHT ARM Leg Spin           83\n",
       "Not a Bowler                 74\n",
       "RIGHT ARM Fast               60\n",
       "LEFT ARM Slow Orthodox       58\n",
       "LEFT ARM Fast Medium         34\n",
       "LEFT ARM Fast                24\n",
       "RIGHT ARM Medium             21\n",
       "LEFT ARM Slow Unorthodox      9\n",
       "LEFT ARM Medium               3\n",
       "Name: Bowling, dtype: int64"
      ]
     },
     "execution_count": 66,
     "metadata": {},
     "output_type": "execute_result"
    }
   ],
   "source": [
    "df['Bowling'].value_counts()"
   ]
  },
  {
   "cell_type": "code",
   "execution_count": null,
   "id": "7748d43f",
   "metadata": {},
   "outputs": [],
   "source": []
  },
  {
   "cell_type": "code",
   "execution_count": null,
   "id": "85c2dc53",
   "metadata": {},
   "outputs": [],
   "source": []
  },
  {
   "cell_type": "code",
   "execution_count": null,
   "id": "49047d4f",
   "metadata": {},
   "outputs": [],
   "source": []
  },
  {
   "cell_type": "code",
   "execution_count": null,
   "id": "a052dec5",
   "metadata": {},
   "outputs": [],
   "source": []
  },
  {
   "cell_type": "code",
   "execution_count": null,
   "id": "d3492364",
   "metadata": {},
   "outputs": [],
   "source": []
  },
  {
   "cell_type": "code",
   "execution_count": null,
   "id": "070b1365",
   "metadata": {},
   "outputs": [],
   "source": []
  },
  {
   "cell_type": "code",
   "execution_count": null,
   "id": "6fbe2870",
   "metadata": {},
   "outputs": [],
   "source": []
  },
  {
   "cell_type": "code",
   "execution_count": null,
   "id": "bf7168c5",
   "metadata": {},
   "outputs": [],
   "source": []
  },
  {
   "cell_type": "code",
   "execution_count": null,
   "id": "e3bf42db",
   "metadata": {},
   "outputs": [],
   "source": []
  },
  {
   "cell_type": "code",
   "execution_count": null,
   "id": "2b6cb131",
   "metadata": {},
   "outputs": [],
   "source": []
  }
 ],
 "metadata": {
  "kernelspec": {
   "display_name": "Python 3",
   "language": "python",
   "name": "python3"
  },
  "language_info": {
   "codemirror_mode": {
    "name": "ipython",
    "version": 3
   },
   "file_extension": ".py",
   "mimetype": "text/x-python",
   "name": "python",
   "nbconvert_exporter": "python",
   "pygments_lexer": "ipython3",
   "version": "3.8.8"
  }
 },
 "nbformat": 4,
 "nbformat_minor": 5
}
